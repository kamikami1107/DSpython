{
 "cells": [
  {
   "cell_type": "markdown",
   "metadata": {},
   "source": [
    "### Tqdm"
   ]
  },
  {
   "cell_type": "code",
   "execution_count": 1,
   "metadata": {},
   "outputs": [],
   "source": [
    "from tqdm import tqdm"
   ]
  },
  {
   "cell_type": "code",
   "execution_count": 2,
   "metadata": {},
   "outputs": [
    {
     "name": "stderr",
     "output_type": "stream",
     "text": [
      "0it [00:00, ?it/s]"
     ]
    },
    {
     "data": {
      "text/plain": [
       "0it [00:00, ?it/s]"
      ]
     },
     "execution_count": 2,
     "metadata": {},
     "output_type": "execute_result"
    }
   ],
   "source": [
    "tqdm()"
   ]
  },
  {
   "cell_type": "code",
   "execution_count": 3,
   "metadata": {},
   "outputs": [
    {
     "name": "stdout",
     "output_type": "stream",
     "text": [
      "10000000\n",
      "it took 0.917393684387207\n"
     ]
    }
   ],
   "source": [
    "# 処理の長いfor文にてtimeモジュールで処理時間を調べてみる\n",
    "\n",
    "import time\n",
    "sum_ = 0\n",
    "before = time.time()\n",
    "for i in range(int(1e7)):\n",
    "    sum_ += 1\n",
    "print(sum_)\n",
    "after =time.time()\n",
    "print('it took {}'.format(after - before))"
   ]
  },
  {
   "cell_type": "code",
   "execution_count": 4,
   "metadata": {},
   "outputs": [
    {
     "name": "stderr",
     "output_type": "stream",
     "text": [
      "\n",
      "  0%|          | 0/10000000 [00:00<?, ?it/s]\u001b[A\n",
      "  2%|▏         | 172161/10000000 [00:00<00:05, 1721607.54it/s]\u001b[A\n",
      "  4%|▎         | 371417/10000000 [00:00<00:05, 1794824.98it/s]\u001b[A\n",
      "  6%|▌         | 588065/10000000 [00:00<00:04, 1892205.45it/s]\u001b[A\n",
      "  8%|▊         | 817958/10000000 [00:00<00:04, 1998264.04it/s]\u001b[A\n",
      " 11%|█         | 1058042/10000000 [00:00<00:04, 2104018.21it/s]\u001b[A\n",
      " 13%|█▎        | 1305302/10000000 [00:00<00:03, 2202513.70it/s]\u001b[A\n",
      " 16%|█▌        | 1561040/10000000 [00:00<00:03, 2298181.27it/s]\u001b[A\n",
      " 18%|█▊        | 1825239/10000000 [00:00<00:03, 2391544.17it/s]\u001b[A\n",
      " 21%|██        | 2090715/10000000 [00:00<00:03, 2464802.16it/s]\u001b[A\n",
      " 24%|██▎       | 2370459/10000000 [00:01<00:02, 2555979.06it/s]\u001b[A\n",
      " 26%|██▋       | 2636623/10000000 [00:01<00:02, 2586783.00it/s]\u001b[A\n",
      " 29%|██▉       | 2913254/10000000 [00:01<00:02, 2638142.96it/s]\u001b[A\n",
      " 32%|███▏      | 3183719/10000000 [00:01<00:02, 2657747.96it/s]\u001b[A\n",
      " 35%|███▍      | 3462321/10000000 [00:01<00:02, 2694778.82it/s]\u001b[A\n",
      " 38%|███▊      | 3751135/10000000 [00:01<00:02, 2750011.77it/s]\u001b[A\n",
      " 40%|████      | 4034942/10000000 [00:01<00:02, 2775846.97it/s]\u001b[A\n",
      " 43%|████▎     | 4328423/10000000 [00:01<00:02, 2821696.71it/s]\u001b[A\n",
      " 46%|████▌     | 4618912/10000000 [00:01<00:01, 2846146.83it/s]\u001b[A\n",
      " 49%|████▉     | 4907775/10000000 [00:01<00:01, 2858758.78it/s]\u001b[A\n",
      " 52%|█████▏    | 5202518/10000000 [00:02<00:01, 2884680.54it/s]\u001b[A\n",
      " 55%|█████▍    | 5493106/10000000 [00:02<00:01, 2890920.20it/s]\u001b[A\n",
      " 58%|█████▊    | 5785317/10000000 [00:02<00:01, 2900205.77it/s]\u001b[A\n",
      " 61%|██████    | 6084075/10000000 [00:02<00:01, 2925875.44it/s]\u001b[A\n",
      " 64%|██████▍   | 6378215/10000000 [00:02<00:01, 2930512.23it/s]\u001b[A\n",
      " 67%|██████▋   | 6678240/10000000 [00:02<00:01, 2951087.44it/s]\u001b[A\n",
      " 70%|██████▉   | 6973447/10000000 [00:02<00:01, 2940149.49it/s]\u001b[A\n",
      " 73%|███████▎  | 7273719/10000000 [00:02<00:00, 2958643.86it/s]\u001b[A\n",
      " 76%|███████▌  | 7569666/10000000 [00:02<00:00, 2946129.36it/s]\u001b[A\n",
      " 79%|███████▊  | 7869761/10000000 [00:02<00:00, 2962360.74it/s]\u001b[A\n",
      " 82%|████████▏ | 8166068/10000000 [00:03<00:00, 2957538.41it/s]\u001b[A\n",
      " 85%|████████▍ | 8465222/10000000 [00:03<00:00, 2967656.19it/s]\u001b[A\n",
      " 88%|████████▊ | 8762032/10000000 [00:03<00:00, 2942670.35it/s]\u001b[A\n",
      " 91%|█████████ | 9056378/10000000 [00:03<00:00, 2927045.82it/s]\u001b[A\n",
      " 94%|█████████▎| 9351478/10000000 [00:03<00:00, 2934189.89it/s]\u001b[A\n",
      " 96%|█████████▋| 9644954/10000000 [00:03<00:00, 2933570.81it/s]\u001b[A\n",
      "100%|██████████| 10000000/10000000 [00:03<00:00, 2754930.50it/s][A"
     ]
    },
    {
     "name": "stdout",
     "output_type": "stream",
     "text": [
      "10000000\n",
      "it took 3.6350667476654053\n"
     ]
    },
    {
     "name": "stderr",
     "output_type": "stream",
     "text": [
      "\n"
     ]
    }
   ],
   "source": [
    "# tqdmを入れてみる\n",
    "\n",
    "import time\n",
    "sum_ = 0\n",
    "before = time.time()\n",
    "for i in tqdm(range(int(1e7))):\n",
    "    sum_ += 1\n",
    "print(sum_)\n",
    "after =time.time()\n",
    "print('it took {}'.format(after - before))"
   ]
  },
  {
   "cell_type": "code",
   "execution_count": 5,
   "metadata": {},
   "outputs": [
    {
     "name": "stderr",
     "output_type": "stream",
     "text": [
      "100%|██████████| 10000000/10000000 [00:03<00:00, 2805525.62it/s]"
     ]
    },
    {
     "name": "stdout",
     "output_type": "stream",
     "text": [
      "10000000\n",
      "it took 3.566970109939575\n"
     ]
    },
    {
     "name": "stderr",
     "output_type": "stream",
     "text": [
      "\n"
     ]
    }
   ],
   "source": [
    "# tqdmの表示を短くしてみる\n",
    "\n",
    "import time\n",
    "sum_ = 0\n",
    "before = time.time()\n",
    "for i in tqdm(range(int(1e7)), position=0):\n",
    "    sum_ += 1\n",
    "print(sum_)\n",
    "after =time.time()\n",
    "print('it took {}'.format(after - before))"
   ]
  },
  {
   "cell_type": "code",
   "execution_count": 6,
   "metadata": {},
   "outputs": [],
   "source": [
    "import glob\n",
    "\n",
    "import numpy as np\n",
    "import pandas as pd\n",
    "import matplotlib.pyplot as plt\n",
    "import seaborn as sns\n",
    "%matplotlib inline\n",
    "\n",
    "import os\n",
    "from pathlib import Path"
   ]
  },
  {
   "cell_type": "markdown",
   "metadata": {},
   "source": [
    "#### DataFrameの作成\n",
    "\n",
    "- **columns: path_im, filename, path_msk**\n",
    "\n",
    "\n",
    "1. path_im -> 'public-covid-data/rp_im/5.nii.gz'\n",
    "\n",
    "2. path_msk -> 'public-covid-data/rp_msk/5.nii.gz'\n",
    "\n",
    "3. filename -> '5.nii.gz'"
   ]
  },
  {
   "cell_type": "markdown",
   "metadata": {},
   "source": [
    "#### 1. path_im -> 'public-covid-data/rp_im/5.nii.gz'の作成"
   ]
  },
  {
   "cell_type": "code",
   "execution_count": 7,
   "metadata": {},
   "outputs": [
    {
     "data": {
      "text/plain": [
       "PosixPath('public-covid-data')"
      ]
     },
     "execution_count": 7,
     "metadata": {},
     "output_type": "execute_result"
    }
   ],
   "source": [
    "p = Path('public-covid-data/')\n",
    "p"
   ]
  },
  {
   "cell_type": "code",
   "execution_count": 8,
   "metadata": {},
   "outputs": [
    {
     "data": {
      "text/plain": [
       "[PosixPath('public-covid-data/rp_im'), PosixPath('public-covid-data/rp_msk')]"
      ]
     },
     "execution_count": 8,
     "metadata": {},
     "output_type": "execute_result"
    }
   ],
   "source": [
    "list(p.iterdir())"
   ]
  },
  {
   "cell_type": "code",
   "execution_count": 9,
   "metadata": {},
   "outputs": [
    {
     "name": "stdout",
     "output_type": "stream",
     "text": [
      "rm: cannot remove 'public-covid-data/.DS_Store': No such file or directory\n"
     ]
    }
   ],
   "source": [
    "rm public-covid-data/.DS_Store"
   ]
  },
  {
   "cell_type": "code",
   "execution_count": 10,
   "metadata": {},
   "outputs": [
    {
     "name": "stdout",
     "output_type": "stream",
     "text": [
      "public-covid-data/rp_im\n"
     ]
    },
    {
     "data": {
      "text/plain": [
       "[PosixPath('public-covid-data/rp_im/2.nii.gz'),\n",
       " PosixPath('public-covid-data/rp_im/3.nii.gz'),\n",
       " PosixPath('public-covid-data/rp_im/4.nii.gz'),\n",
       " PosixPath('public-covid-data/rp_im/5.nii.gz'),\n",
       " PosixPath('public-covid-data/rp_im/6.nii.gz'),\n",
       " PosixPath('public-covid-data/rp_im/7.nii.gz'),\n",
       " PosixPath('public-covid-data/rp_im/8.nii.gz'),\n",
       " PosixPath('public-covid-data/rp_im/9.nii.gz')]"
      ]
     },
     "execution_count": 10,
     "metadata": {},
     "output_type": "execute_result"
    }
   ],
   "source": [
    "sub_p = list(p.iterdir())[0]\n",
    "print(sub_p)\n",
    "folder = list(sub_p.iterdir())[1:10]# [0]は.DS_Store\n",
    "folder"
   ]
  },
  {
   "cell_type": "code",
   "execution_count": 11,
   "metadata": {},
   "outputs": [
    {
     "data": {
      "text/plain": [
       "'public-covid-data/rp_im/3.nii.gz'"
      ]
     },
     "execution_count": 11,
     "metadata": {},
     "output_type": "execute_result"
    }
   ],
   "source": [
    "# 文字列のみを取得\n",
    "\n",
    "folder[1].as_posix()"
   ]
  },
  {
   "cell_type": "code",
   "execution_count": 12,
   "metadata": {},
   "outputs": [
    {
     "data": {
      "text/plain": [
       "'public-covid-data/rp_im/3.nii.gz'"
      ]
     },
     "execution_count": 12,
     "metadata": {},
     "output_type": "execute_result"
    }
   ],
   "source": [
    "# 文字列のみを取得、その２\n",
    "\n",
    "str(folder[1])"
   ]
  },
  {
   "cell_type": "markdown",
   "metadata": {},
   "source": [
    "#### 2. path_msk -> 'public-covid-data/rp_msk/5.nii.gz'"
   ]
  },
  {
   "cell_type": "code",
   "execution_count": 13,
   "metadata": {},
   "outputs": [
    {
     "name": "stdout",
     "output_type": "stream",
     "text": [
      "public-covid-data/rp_msk\n"
     ]
    },
    {
     "data": {
      "text/plain": [
       "[PosixPath('public-covid-data/rp_msk/1.nii.gz'),\n",
       " PosixPath('public-covid-data/rp_msk/2.nii.gz'),\n",
       " PosixPath('public-covid-data/rp_msk/3.nii.gz'),\n",
       " PosixPath('public-covid-data/rp_msk/4.nii.gz'),\n",
       " PosixPath('public-covid-data/rp_msk/5.nii.gz'),\n",
       " PosixPath('public-covid-data/rp_msk/6.nii.gz'),\n",
       " PosixPath('public-covid-data/rp_msk/7.nii.gz'),\n",
       " PosixPath('public-covid-data/rp_msk/8.nii.gz'),\n",
       " PosixPath('public-covid-data/rp_msk/9.nii.gz')]"
      ]
     },
     "execution_count": 13,
     "metadata": {},
     "output_type": "execute_result"
    }
   ],
   "source": [
    "sub_q = list(p.iterdir())[1]\n",
    "print(sub_q)\n",
    "folder_ = list(sub_q.iterdir())# [0]は.DS_Store\n",
    "folder_"
   ]
  },
  {
   "cell_type": "code",
   "execution_count": 14,
   "metadata": {},
   "outputs": [
    {
     "data": {
      "text/plain": [
       "'public-covid-data/rp_msk/2.nii.gz'"
      ]
     },
     "execution_count": 14,
     "metadata": {},
     "output_type": "execute_result"
    }
   ],
   "source": [
    "folder_[1].as_posix()"
   ]
  },
  {
   "cell_type": "markdown",
   "metadata": {},
   "source": [
    "#### 3. filename -> '5.nii.gz'"
   ]
  },
  {
   "cell_type": "code",
   "execution_count": 15,
   "metadata": {},
   "outputs": [
    {
     "data": {
      "text/plain": [
       "'3.nii.gz'"
      ]
     },
     "execution_count": 15,
     "metadata": {},
     "output_type": "execute_result"
    }
   ],
   "source": [
    "# filenameを取得\n",
    "\n",
    "os.path.split(folder[1].as_posix())[1]"
   ]
  },
  {
   "cell_type": "code",
   "execution_count": 16,
   "metadata": {},
   "outputs": [],
   "source": [
    "# for文でpath_imとfilenameを生成する並列処理を行う\n",
    "path_im_list = []\n",
    "filename_list = []\n",
    "\n",
    "for i in list(sub_p.iterdir())[1:10]:\n",
    "    path_im_list.append(i.as_posix())\n",
    "#    str_i = i.as_posix()\n",
    "#    print(os.path.split(str_i)[1])\n",
    "    filename_list.append(os.path.split(i.as_posix())[1])"
   ]
  },
  {
   "cell_type": "code",
   "execution_count": 17,
   "metadata": {},
   "outputs": [
    {
     "data": {
      "text/plain": [
       "['public-covid-data/rp_im/2.nii.gz',\n",
       " 'public-covid-data/rp_im/3.nii.gz',\n",
       " 'public-covid-data/rp_im/4.nii.gz',\n",
       " 'public-covid-data/rp_im/5.nii.gz',\n",
       " 'public-covid-data/rp_im/6.nii.gz',\n",
       " 'public-covid-data/rp_im/7.nii.gz',\n",
       " 'public-covid-data/rp_im/8.nii.gz',\n",
       " 'public-covid-data/rp_im/9.nii.gz']"
      ]
     },
     "execution_count": 17,
     "metadata": {},
     "output_type": "execute_result"
    }
   ],
   "source": [
    "path_im_list"
   ]
  },
  {
   "cell_type": "code",
   "execution_count": 18,
   "metadata": {},
   "outputs": [
    {
     "data": {
      "text/plain": [
       "['2.nii.gz',\n",
       " '3.nii.gz',\n",
       " '4.nii.gz',\n",
       " '5.nii.gz',\n",
       " '6.nii.gz',\n",
       " '7.nii.gz',\n",
       " '8.nii.gz',\n",
       " '9.nii.gz']"
      ]
     },
     "execution_count": 18,
     "metadata": {},
     "output_type": "execute_result"
    }
   ],
   "source": [
    "filename_list"
   ]
  },
  {
   "cell_type": "code",
   "execution_count": 19,
   "metadata": {},
   "outputs": [
    {
     "data": {
      "text/plain": [
       "['public-covid-data/rp_msk/1.nii.gz',\n",
       " 'public-covid-data/rp_msk/2.nii.gz',\n",
       " 'public-covid-data/rp_msk/3.nii.gz',\n",
       " 'public-covid-data/rp_msk/4.nii.gz',\n",
       " 'public-covid-data/rp_msk/5.nii.gz',\n",
       " 'public-covid-data/rp_msk/6.nii.gz',\n",
       " 'public-covid-data/rp_msk/7.nii.gz',\n",
       " 'public-covid-data/rp_msk/8.nii.gz',\n",
       " 'public-covid-data/rp_msk/9.nii.gz']"
      ]
     },
     "execution_count": 19,
     "metadata": {},
     "output_type": "execute_result"
    }
   ],
   "source": [
    "# for文でpath_mskを生成する並列処理を行う\n",
    "\n",
    "path_msk_list = []\n",
    "\n",
    "for j in (sub_q.iterdir()):\n",
    "    path_msk_list.append(j.as_posix())\n",
    "    \n",
    "path_msk_list"
   ]
  },
  {
   "cell_type": "code",
   "execution_count": 20,
   "metadata": {},
   "outputs": [
    {
     "data": {
      "text/plain": [
       "['public-covid-data/rp_im/1.nii.gz',\n",
       " 'public-covid-data/rp_im/2.nii.gz',\n",
       " 'public-covid-data/rp_im/3.nii.gz',\n",
       " 'public-covid-data/rp_im/4.nii.gz',\n",
       " 'public-covid-data/rp_im/5.nii.gz',\n",
       " 'public-covid-data/rp_im/6.nii.gz',\n",
       " 'public-covid-data/rp_im/7.nii.gz',\n",
       " 'public-covid-data/rp_im/8.nii.gz',\n",
       " 'public-covid-data/rp_im/9.nii.gz']"
      ]
     },
     "execution_count": 20,
     "metadata": {},
     "output_type": "execute_result"
    }
   ],
   "source": [
    "# path_imのfor文をリスト内包記で\n",
    "path_im_list_ = []\n",
    "\n",
    "[path_im_list_.append(i.as_posix()) for i in list(sub_p.iterdir())]\n",
    "\n",
    "path_im_list_"
   ]
  },
  {
   "cell_type": "code",
   "execution_count": 21,
   "metadata": {},
   "outputs": [
    {
     "data": {
      "text/plain": [
       "['1.nii.gz',\n",
       " '2.nii.gz',\n",
       " '3.nii.gz',\n",
       " '4.nii.gz',\n",
       " '5.nii.gz',\n",
       " '6.nii.gz',\n",
       " '7.nii.gz',\n",
       " '8.nii.gz',\n",
       " '9.nii.gz']"
      ]
     },
     "execution_count": 21,
     "metadata": {},
     "output_type": "execute_result"
    }
   ],
   "source": [
    "# filenameのfor文をリスト内包記で\n",
    "\n",
    "filename_list_ = []\n",
    "\n",
    "[filename_list_.append(os.path.split(i.as_posix())[1]) for i in list(sub_p.iterdir())]\n",
    "\n",
    "filename_list_"
   ]
  },
  {
   "cell_type": "code",
   "execution_count": 22,
   "metadata": {},
   "outputs": [
    {
     "data": {
      "text/plain": [
       "['public-covid-data/rp_msk/1.nii.gz',\n",
       " 'public-covid-data/rp_msk/2.nii.gz',\n",
       " 'public-covid-data/rp_msk/3.nii.gz',\n",
       " 'public-covid-data/rp_msk/4.nii.gz',\n",
       " 'public-covid-data/rp_msk/5.nii.gz',\n",
       " 'public-covid-data/rp_msk/6.nii.gz',\n",
       " 'public-covid-data/rp_msk/7.nii.gz',\n",
       " 'public-covid-data/rp_msk/8.nii.gz',\n",
       " 'public-covid-data/rp_msk/9.nii.gz']"
      ]
     },
     "execution_count": 22,
     "metadata": {},
     "output_type": "execute_result"
    }
   ],
   "source": [
    "# path_mskのfor文をリスト内包記で\n",
    "path_msk_list_ = []\n",
    "\n",
    "[path_msk_list_.append(j.as_posix()) for j in list(sub_q.iterdir())]\n",
    "\n",
    "path_msk_list_"
   ]
  },
  {
   "cell_type": "code",
   "execution_count": 23,
   "metadata": {},
   "outputs": [],
   "source": [
    "df1 = pd.DataFrame({'path_im':path_im_list_, \n",
    "                   'filename':filename_list_, \n",
    "                   'path_msk':path_msk_list_})"
   ]
  },
  {
   "cell_type": "code",
   "execution_count": 24,
   "metadata": {},
   "outputs": [
    {
     "data": {
      "text/html": [
       "<div>\n",
       "<style scoped>\n",
       "    .dataframe tbody tr th:only-of-type {\n",
       "        vertical-align: middle;\n",
       "    }\n",
       "\n",
       "    .dataframe tbody tr th {\n",
       "        vertical-align: top;\n",
       "    }\n",
       "\n",
       "    .dataframe thead th {\n",
       "        text-align: right;\n",
       "    }\n",
       "</style>\n",
       "<table border=\"1\" class=\"dataframe\">\n",
       "  <thead>\n",
       "    <tr style=\"text-align: right;\">\n",
       "      <th></th>\n",
       "      <th>path_im</th>\n",
       "      <th>filename</th>\n",
       "      <th>path_msk</th>\n",
       "    </tr>\n",
       "  </thead>\n",
       "  <tbody>\n",
       "    <tr>\n",
       "      <th>0</th>\n",
       "      <td>public-covid-data/rp_im/1.nii.gz</td>\n",
       "      <td>1.nii.gz</td>\n",
       "      <td>public-covid-data/rp_msk/1.nii.gz</td>\n",
       "    </tr>\n",
       "    <tr>\n",
       "      <th>1</th>\n",
       "      <td>public-covid-data/rp_im/2.nii.gz</td>\n",
       "      <td>2.nii.gz</td>\n",
       "      <td>public-covid-data/rp_msk/2.nii.gz</td>\n",
       "    </tr>\n",
       "    <tr>\n",
       "      <th>2</th>\n",
       "      <td>public-covid-data/rp_im/3.nii.gz</td>\n",
       "      <td>3.nii.gz</td>\n",
       "      <td>public-covid-data/rp_msk/3.nii.gz</td>\n",
       "    </tr>\n",
       "    <tr>\n",
       "      <th>3</th>\n",
       "      <td>public-covid-data/rp_im/4.nii.gz</td>\n",
       "      <td>4.nii.gz</td>\n",
       "      <td>public-covid-data/rp_msk/4.nii.gz</td>\n",
       "    </tr>\n",
       "    <tr>\n",
       "      <th>4</th>\n",
       "      <td>public-covid-data/rp_im/5.nii.gz</td>\n",
       "      <td>5.nii.gz</td>\n",
       "      <td>public-covid-data/rp_msk/5.nii.gz</td>\n",
       "    </tr>\n",
       "    <tr>\n",
       "      <th>5</th>\n",
       "      <td>public-covid-data/rp_im/6.nii.gz</td>\n",
       "      <td>6.nii.gz</td>\n",
       "      <td>public-covid-data/rp_msk/6.nii.gz</td>\n",
       "    </tr>\n",
       "    <tr>\n",
       "      <th>6</th>\n",
       "      <td>public-covid-data/rp_im/7.nii.gz</td>\n",
       "      <td>7.nii.gz</td>\n",
       "      <td>public-covid-data/rp_msk/7.nii.gz</td>\n",
       "    </tr>\n",
       "    <tr>\n",
       "      <th>7</th>\n",
       "      <td>public-covid-data/rp_im/8.nii.gz</td>\n",
       "      <td>8.nii.gz</td>\n",
       "      <td>public-covid-data/rp_msk/8.nii.gz</td>\n",
       "    </tr>\n",
       "    <tr>\n",
       "      <th>8</th>\n",
       "      <td>public-covid-data/rp_im/9.nii.gz</td>\n",
       "      <td>9.nii.gz</td>\n",
       "      <td>public-covid-data/rp_msk/9.nii.gz</td>\n",
       "    </tr>\n",
       "  </tbody>\n",
       "</table>\n",
       "</div>"
      ],
      "text/plain": [
       "                            path_im  filename  \\\n",
       "0  public-covid-data/rp_im/1.nii.gz  1.nii.gz   \n",
       "1  public-covid-data/rp_im/2.nii.gz  2.nii.gz   \n",
       "2  public-covid-data/rp_im/3.nii.gz  3.nii.gz   \n",
       "3  public-covid-data/rp_im/4.nii.gz  4.nii.gz   \n",
       "4  public-covid-data/rp_im/5.nii.gz  5.nii.gz   \n",
       "5  public-covid-data/rp_im/6.nii.gz  6.nii.gz   \n",
       "6  public-covid-data/rp_im/7.nii.gz  7.nii.gz   \n",
       "7  public-covid-data/rp_im/8.nii.gz  8.nii.gz   \n",
       "8  public-covid-data/rp_im/9.nii.gz  9.nii.gz   \n",
       "\n",
       "                            path_msk  \n",
       "0  public-covid-data/rp_msk/1.nii.gz  \n",
       "1  public-covid-data/rp_msk/2.nii.gz  \n",
       "2  public-covid-data/rp_msk/3.nii.gz  \n",
       "3  public-covid-data/rp_msk/4.nii.gz  \n",
       "4  public-covid-data/rp_msk/5.nii.gz  \n",
       "5  public-covid-data/rp_msk/6.nii.gz  \n",
       "6  public-covid-data/rp_msk/7.nii.gz  \n",
       "7  public-covid-data/rp_msk/8.nii.gz  \n",
       "8  public-covid-data/rp_msk/9.nii.gz  "
      ]
     },
     "execution_count": 24,
     "metadata": {},
     "output_type": "execute_result"
    }
   ],
   "source": [
    "df1"
   ]
  },
  {
   "cell_type": "markdown",
   "metadata": {},
   "source": [
    "### 模範解答"
   ]
  },
  {
   "cell_type": "code",
   "execution_count": 25,
   "metadata": {},
   "outputs": [
    {
     "data": {
      "text/plain": [
       "[PosixPath('public-covid-data/rp_im'), PosixPath('public-covid-data/rp_msk')]"
      ]
     },
     "execution_count": 25,
     "metadata": {},
     "output_type": "execute_result"
    }
   ],
   "source": [
    "p = Path('public-covid-data')\n",
    "list(p.iterdir())"
   ]
  },
  {
   "cell_type": "markdown",
   "metadata": {},
   "source": [
    "---"
   ]
  },
  {
   "cell_type": "markdown",
   "metadata": {},
   "source": [
    "#### path_listのidea"
   ]
  },
  {
   "cell_type": "code",
   "execution_count": 26,
   "metadata": {},
   "outputs": [
    {
     "data": {
      "text/plain": [
       "[PosixPath('public-covid-data/rp_im/1.nii.gz'),\n",
       " PosixPath('public-covid-data/rp_im/2.nii.gz'),\n",
       " PosixPath('public-covid-data/rp_im/3.nii.gz'),\n",
       " PosixPath('public-covid-data/rp_im/4.nii.gz'),\n",
       " PosixPath('public-covid-data/rp_im/5.nii.gz'),\n",
       " PosixPath('public-covid-data/rp_im/6.nii.gz'),\n",
       " PosixPath('public-covid-data/rp_im/7.nii.gz'),\n",
       " PosixPath('public-covid-data/rp_im/8.nii.gz'),\n",
       " PosixPath('public-covid-data/rp_im/9.nii.gz')]"
      ]
     },
     "execution_count": 26,
     "metadata": {},
     "output_type": "execute_result"
    }
   ],
   "source": [
    "directory = list(p.iterdir())[0]\n",
    "list(directory.iterdir())"
   ]
  },
  {
   "cell_type": "code",
   "execution_count": 27,
   "metadata": {},
   "outputs": [
    {
     "data": {
      "text/plain": [
       "'public-covid-data/rp_im/1.nii.gz'"
      ]
     },
     "execution_count": 27,
     "metadata": {},
     "output_type": "execute_result"
    }
   ],
   "source": [
    "subp = list(directory.iterdir())[0]\n",
    "subp.as_posix()"
   ]
  },
  {
   "cell_type": "markdown",
   "metadata": {},
   "source": [
    "---"
   ]
  },
  {
   "cell_type": "markdown",
   "metadata": {},
   "source": [
    "#### file_name_listのidea"
   ]
  },
  {
   "cell_type": "code",
   "execution_count": 28,
   "metadata": {},
   "outputs": [
    {
     "data": {
      "text/plain": [
       "('public-covid-data/rp_im', '1.nii.gz')"
      ]
     },
     "execution_count": 28,
     "metadata": {},
     "output_type": "execute_result"
    }
   ],
   "source": [
    "os.path.split(subp)"
   ]
  },
  {
   "cell_type": "code",
   "execution_count": 29,
   "metadata": {},
   "outputs": [
    {
     "data": {
      "text/plain": [
       "'1.nii.gz'"
      ]
     },
     "execution_count": 29,
     "metadata": {},
     "output_type": "execute_result"
    }
   ],
   "source": [
    "os.path.split(subp)[1]"
   ]
  },
  {
   "cell_type": "markdown",
   "metadata": {},
   "source": [
    "---"
   ]
  },
  {
   "cell_type": "code",
   "execution_count": 30,
   "metadata": {},
   "outputs": [],
   "source": [
    "path_list = []\n",
    "flie_name_list = []\n",
    "df_list = []\n",
    "\n",
    "for directory in p.iterdir():\n",
    "    path_list = [p.as_posix() for p in list(directory.iterdir())]\n",
    "    flie_name_list = [os.path.split(p)[1] for p in list(directory.iterdir())]\n",
    "    df_list.append(pd.DataFrame({'path':path_list, 'filename':flie_name_list}))"
   ]
  },
  {
   "cell_type": "code",
   "execution_count": 31,
   "metadata": {},
   "outputs": [
    {
     "data": {
      "text/plain": [
       "['public-covid-data/rp_msk/1.nii.gz',\n",
       " 'public-covid-data/rp_msk/2.nii.gz',\n",
       " 'public-covid-data/rp_msk/3.nii.gz',\n",
       " 'public-covid-data/rp_msk/4.nii.gz',\n",
       " 'public-covid-data/rp_msk/5.nii.gz',\n",
       " 'public-covid-data/rp_msk/6.nii.gz',\n",
       " 'public-covid-data/rp_msk/7.nii.gz',\n",
       " 'public-covid-data/rp_msk/8.nii.gz',\n",
       " 'public-covid-data/rp_msk/9.nii.gz']"
      ]
     },
     "execution_count": 31,
     "metadata": {},
     "output_type": "execute_result"
    }
   ],
   "source": [
    "path_list"
   ]
  },
  {
   "cell_type": "code",
   "execution_count": 32,
   "metadata": {},
   "outputs": [
    {
     "data": {
      "text/plain": [
       "['1.nii.gz',\n",
       " '2.nii.gz',\n",
       " '3.nii.gz',\n",
       " '4.nii.gz',\n",
       " '5.nii.gz',\n",
       " '6.nii.gz',\n",
       " '7.nii.gz',\n",
       " '8.nii.gz',\n",
       " '9.nii.gz']"
      ]
     },
     "execution_count": 32,
     "metadata": {},
     "output_type": "execute_result"
    }
   ],
   "source": [
    "flie_name_list"
   ]
  },
  {
   "cell_type": "code",
   "execution_count": 33,
   "metadata": {},
   "outputs": [
    {
     "data": {
      "text/plain": [
       "[                               path  filename\n",
       " 0  public-covid-data/rp_im/1.nii.gz  1.nii.gz\n",
       " 1  public-covid-data/rp_im/2.nii.gz  2.nii.gz\n",
       " 2  public-covid-data/rp_im/3.nii.gz  3.nii.gz\n",
       " 3  public-covid-data/rp_im/4.nii.gz  4.nii.gz\n",
       " 4  public-covid-data/rp_im/5.nii.gz  5.nii.gz\n",
       " 5  public-covid-data/rp_im/6.nii.gz  6.nii.gz\n",
       " 6  public-covid-data/rp_im/7.nii.gz  7.nii.gz\n",
       " 7  public-covid-data/rp_im/8.nii.gz  8.nii.gz\n",
       " 8  public-covid-data/rp_im/9.nii.gz  9.nii.gz,\n",
       "                                 path  filename\n",
       " 0  public-covid-data/rp_msk/1.nii.gz  1.nii.gz\n",
       " 1  public-covid-data/rp_msk/2.nii.gz  2.nii.gz\n",
       " 2  public-covid-data/rp_msk/3.nii.gz  3.nii.gz\n",
       " 3  public-covid-data/rp_msk/4.nii.gz  4.nii.gz\n",
       " 4  public-covid-data/rp_msk/5.nii.gz  5.nii.gz\n",
       " 5  public-covid-data/rp_msk/6.nii.gz  6.nii.gz\n",
       " 6  public-covid-data/rp_msk/7.nii.gz  7.nii.gz\n",
       " 7  public-covid-data/rp_msk/8.nii.gz  8.nii.gz\n",
       " 8  public-covid-data/rp_msk/9.nii.gz  9.nii.gz]"
      ]
     },
     "execution_count": 33,
     "metadata": {},
     "output_type": "execute_result"
    }
   ],
   "source": [
    "df_list"
   ]
  },
  {
   "cell_type": "code",
   "execution_count": 34,
   "metadata": {},
   "outputs": [
    {
     "data": {
      "text/html": [
       "<div>\n",
       "<style scoped>\n",
       "    .dataframe tbody tr th:only-of-type {\n",
       "        vertical-align: middle;\n",
       "    }\n",
       "\n",
       "    .dataframe tbody tr th {\n",
       "        vertical-align: top;\n",
       "    }\n",
       "\n",
       "    .dataframe thead th {\n",
       "        text-align: right;\n",
       "    }\n",
       "</style>\n",
       "<table border=\"1\" class=\"dataframe\">\n",
       "  <thead>\n",
       "    <tr style=\"text-align: right;\">\n",
       "      <th></th>\n",
       "      <th>path</th>\n",
       "      <th>filename</th>\n",
       "    </tr>\n",
       "  </thead>\n",
       "  <tbody>\n",
       "    <tr>\n",
       "      <th>0</th>\n",
       "      <td>public-covid-data/rp_im/1.nii.gz</td>\n",
       "      <td>1.nii.gz</td>\n",
       "    </tr>\n",
       "    <tr>\n",
       "      <th>1</th>\n",
       "      <td>public-covid-data/rp_im/2.nii.gz</td>\n",
       "      <td>2.nii.gz</td>\n",
       "    </tr>\n",
       "    <tr>\n",
       "      <th>2</th>\n",
       "      <td>public-covid-data/rp_im/3.nii.gz</td>\n",
       "      <td>3.nii.gz</td>\n",
       "    </tr>\n",
       "    <tr>\n",
       "      <th>3</th>\n",
       "      <td>public-covid-data/rp_im/4.nii.gz</td>\n",
       "      <td>4.nii.gz</td>\n",
       "    </tr>\n",
       "    <tr>\n",
       "      <th>4</th>\n",
       "      <td>public-covid-data/rp_im/5.nii.gz</td>\n",
       "      <td>5.nii.gz</td>\n",
       "    </tr>\n",
       "    <tr>\n",
       "      <th>5</th>\n",
       "      <td>public-covid-data/rp_im/6.nii.gz</td>\n",
       "      <td>6.nii.gz</td>\n",
       "    </tr>\n",
       "    <tr>\n",
       "      <th>6</th>\n",
       "      <td>public-covid-data/rp_im/7.nii.gz</td>\n",
       "      <td>7.nii.gz</td>\n",
       "    </tr>\n",
       "    <tr>\n",
       "      <th>7</th>\n",
       "      <td>public-covid-data/rp_im/8.nii.gz</td>\n",
       "      <td>8.nii.gz</td>\n",
       "    </tr>\n",
       "    <tr>\n",
       "      <th>8</th>\n",
       "      <td>public-covid-data/rp_im/9.nii.gz</td>\n",
       "      <td>9.nii.gz</td>\n",
       "    </tr>\n",
       "  </tbody>\n",
       "</table>\n",
       "</div>"
      ],
      "text/plain": [
       "                               path  filename\n",
       "0  public-covid-data/rp_im/1.nii.gz  1.nii.gz\n",
       "1  public-covid-data/rp_im/2.nii.gz  2.nii.gz\n",
       "2  public-covid-data/rp_im/3.nii.gz  3.nii.gz\n",
       "3  public-covid-data/rp_im/4.nii.gz  4.nii.gz\n",
       "4  public-covid-data/rp_im/5.nii.gz  5.nii.gz\n",
       "5  public-covid-data/rp_im/6.nii.gz  6.nii.gz\n",
       "6  public-covid-data/rp_im/7.nii.gz  7.nii.gz\n",
       "7  public-covid-data/rp_im/8.nii.gz  8.nii.gz\n",
       "8  public-covid-data/rp_im/9.nii.gz  9.nii.gz"
      ]
     },
     "execution_count": 34,
     "metadata": {},
     "output_type": "execute_result"
    }
   ],
   "source": [
    "df_list[0]"
   ]
  },
  {
   "cell_type": "code",
   "execution_count": 35,
   "metadata": {},
   "outputs": [
    {
     "data": {
      "text/html": [
       "<div>\n",
       "<style scoped>\n",
       "    .dataframe tbody tr th:only-of-type {\n",
       "        vertical-align: middle;\n",
       "    }\n",
       "\n",
       "    .dataframe tbody tr th {\n",
       "        vertical-align: top;\n",
       "    }\n",
       "\n",
       "    .dataframe thead th {\n",
       "        text-align: right;\n",
       "    }\n",
       "</style>\n",
       "<table border=\"1\" class=\"dataframe\">\n",
       "  <thead>\n",
       "    <tr style=\"text-align: right;\">\n",
       "      <th></th>\n",
       "      <th>path</th>\n",
       "      <th>filename</th>\n",
       "    </tr>\n",
       "  </thead>\n",
       "  <tbody>\n",
       "    <tr>\n",
       "      <th>0</th>\n",
       "      <td>public-covid-data/rp_msk/1.nii.gz</td>\n",
       "      <td>1.nii.gz</td>\n",
       "    </tr>\n",
       "    <tr>\n",
       "      <th>1</th>\n",
       "      <td>public-covid-data/rp_msk/2.nii.gz</td>\n",
       "      <td>2.nii.gz</td>\n",
       "    </tr>\n",
       "    <tr>\n",
       "      <th>2</th>\n",
       "      <td>public-covid-data/rp_msk/3.nii.gz</td>\n",
       "      <td>3.nii.gz</td>\n",
       "    </tr>\n",
       "    <tr>\n",
       "      <th>3</th>\n",
       "      <td>public-covid-data/rp_msk/4.nii.gz</td>\n",
       "      <td>4.nii.gz</td>\n",
       "    </tr>\n",
       "    <tr>\n",
       "      <th>4</th>\n",
       "      <td>public-covid-data/rp_msk/5.nii.gz</td>\n",
       "      <td>5.nii.gz</td>\n",
       "    </tr>\n",
       "    <tr>\n",
       "      <th>5</th>\n",
       "      <td>public-covid-data/rp_msk/6.nii.gz</td>\n",
       "      <td>6.nii.gz</td>\n",
       "    </tr>\n",
       "    <tr>\n",
       "      <th>6</th>\n",
       "      <td>public-covid-data/rp_msk/7.nii.gz</td>\n",
       "      <td>7.nii.gz</td>\n",
       "    </tr>\n",
       "    <tr>\n",
       "      <th>7</th>\n",
       "      <td>public-covid-data/rp_msk/8.nii.gz</td>\n",
       "      <td>8.nii.gz</td>\n",
       "    </tr>\n",
       "    <tr>\n",
       "      <th>8</th>\n",
       "      <td>public-covid-data/rp_msk/9.nii.gz</td>\n",
       "      <td>9.nii.gz</td>\n",
       "    </tr>\n",
       "  </tbody>\n",
       "</table>\n",
       "</div>"
      ],
      "text/plain": [
       "                                path  filename\n",
       "0  public-covid-data/rp_msk/1.nii.gz  1.nii.gz\n",
       "1  public-covid-data/rp_msk/2.nii.gz  2.nii.gz\n",
       "2  public-covid-data/rp_msk/3.nii.gz  3.nii.gz\n",
       "3  public-covid-data/rp_msk/4.nii.gz  4.nii.gz\n",
       "4  public-covid-data/rp_msk/5.nii.gz  5.nii.gz\n",
       "5  public-covid-data/rp_msk/6.nii.gz  6.nii.gz\n",
       "6  public-covid-data/rp_msk/7.nii.gz  7.nii.gz\n",
       "7  public-covid-data/rp_msk/8.nii.gz  8.nii.gz\n",
       "8  public-covid-data/rp_msk/9.nii.gz  9.nii.gz"
      ]
     },
     "execution_count": 35,
     "metadata": {},
     "output_type": "execute_result"
    }
   ],
   "source": [
    "df_list[1]"
   ]
  },
  {
   "cell_type": "code",
   "execution_count": 36,
   "metadata": {},
   "outputs": [
    {
     "data": {
      "text/html": [
       "<div>\n",
       "<style scoped>\n",
       "    .dataframe tbody tr th:only-of-type {\n",
       "        vertical-align: middle;\n",
       "    }\n",
       "\n",
       "    .dataframe tbody tr th {\n",
       "        vertical-align: top;\n",
       "    }\n",
       "\n",
       "    .dataframe thead th {\n",
       "        text-align: right;\n",
       "    }\n",
       "</style>\n",
       "<table border=\"1\" class=\"dataframe\">\n",
       "  <thead>\n",
       "    <tr style=\"text-align: right;\">\n",
       "      <th></th>\n",
       "      <th>path_im</th>\n",
       "      <th>filename</th>\n",
       "      <th>path_msk</th>\n",
       "    </tr>\n",
       "  </thead>\n",
       "  <tbody>\n",
       "    <tr>\n",
       "      <th>0</th>\n",
       "      <td>public-covid-data/rp_im/1.nii.gz</td>\n",
       "      <td>1.nii.gz</td>\n",
       "      <td>public-covid-data/rp_msk/1.nii.gz</td>\n",
       "    </tr>\n",
       "    <tr>\n",
       "      <th>1</th>\n",
       "      <td>public-covid-data/rp_im/2.nii.gz</td>\n",
       "      <td>2.nii.gz</td>\n",
       "      <td>public-covid-data/rp_msk/2.nii.gz</td>\n",
       "    </tr>\n",
       "    <tr>\n",
       "      <th>2</th>\n",
       "      <td>public-covid-data/rp_im/3.nii.gz</td>\n",
       "      <td>3.nii.gz</td>\n",
       "      <td>public-covid-data/rp_msk/3.nii.gz</td>\n",
       "    </tr>\n",
       "    <tr>\n",
       "      <th>3</th>\n",
       "      <td>public-covid-data/rp_im/4.nii.gz</td>\n",
       "      <td>4.nii.gz</td>\n",
       "      <td>public-covid-data/rp_msk/4.nii.gz</td>\n",
       "    </tr>\n",
       "    <tr>\n",
       "      <th>4</th>\n",
       "      <td>public-covid-data/rp_im/5.nii.gz</td>\n",
       "      <td>5.nii.gz</td>\n",
       "      <td>public-covid-data/rp_msk/5.nii.gz</td>\n",
       "    </tr>\n",
       "    <tr>\n",
       "      <th>5</th>\n",
       "      <td>public-covid-data/rp_im/6.nii.gz</td>\n",
       "      <td>6.nii.gz</td>\n",
       "      <td>public-covid-data/rp_msk/6.nii.gz</td>\n",
       "    </tr>\n",
       "    <tr>\n",
       "      <th>6</th>\n",
       "      <td>public-covid-data/rp_im/7.nii.gz</td>\n",
       "      <td>7.nii.gz</td>\n",
       "      <td>public-covid-data/rp_msk/7.nii.gz</td>\n",
       "    </tr>\n",
       "    <tr>\n",
       "      <th>7</th>\n",
       "      <td>public-covid-data/rp_im/8.nii.gz</td>\n",
       "      <td>8.nii.gz</td>\n",
       "      <td>public-covid-data/rp_msk/8.nii.gz</td>\n",
       "    </tr>\n",
       "    <tr>\n",
       "      <th>8</th>\n",
       "      <td>public-covid-data/rp_im/9.nii.gz</td>\n",
       "      <td>9.nii.gz</td>\n",
       "      <td>public-covid-data/rp_msk/9.nii.gz</td>\n",
       "    </tr>\n",
       "  </tbody>\n",
       "</table>\n",
       "</div>"
      ],
      "text/plain": [
       "                            path_im  filename  \\\n",
       "0  public-covid-data/rp_im/1.nii.gz  1.nii.gz   \n",
       "1  public-covid-data/rp_im/2.nii.gz  2.nii.gz   \n",
       "2  public-covid-data/rp_im/3.nii.gz  3.nii.gz   \n",
       "3  public-covid-data/rp_im/4.nii.gz  4.nii.gz   \n",
       "4  public-covid-data/rp_im/5.nii.gz  5.nii.gz   \n",
       "5  public-covid-data/rp_im/6.nii.gz  6.nii.gz   \n",
       "6  public-covid-data/rp_im/7.nii.gz  7.nii.gz   \n",
       "7  public-covid-data/rp_im/8.nii.gz  8.nii.gz   \n",
       "8  public-covid-data/rp_im/9.nii.gz  9.nii.gz   \n",
       "\n",
       "                            path_msk  \n",
       "0  public-covid-data/rp_msk/1.nii.gz  \n",
       "1  public-covid-data/rp_msk/2.nii.gz  \n",
       "2  public-covid-data/rp_msk/3.nii.gz  \n",
       "3  public-covid-data/rp_msk/4.nii.gz  \n",
       "4  public-covid-data/rp_msk/5.nii.gz  \n",
       "5  public-covid-data/rp_msk/6.nii.gz  \n",
       "6  public-covid-data/rp_msk/7.nii.gz  \n",
       "7  public-covid-data/rp_msk/8.nii.gz  \n",
       "8  public-covid-data/rp_msk/9.nii.gz  "
      ]
     },
     "execution_count": 36,
     "metadata": {},
     "output_type": "execute_result"
    }
   ],
   "source": [
    "# df_listの[0]と[1]をmergeする\n",
    "\n",
    "df = df_list[0].merge(df_list[1], \n",
    "                      on='filename', \n",
    "                      suffixes=('_im', '_msk'))\n",
    "df"
   ]
  },
  {
   "cell_type": "code",
   "execution_count": 37,
   "metadata": {},
   "outputs": [
    {
     "name": "stdout",
     "output_type": "stream",
     "text": [
      "image path for public-covid-data/rp_im/1.nii.gz is here 1.nii.gz\n",
      "image path for public-covid-data/rp_msk/1.nii.gz is here 1.nii.gz\n",
      "\n",
      "\n",
      "image path for public-covid-data/rp_im/2.nii.gz is here 2.nii.gz\n",
      "image path for public-covid-data/rp_msk/2.nii.gz is here 2.nii.gz\n",
      "\n",
      "\n",
      "image path for public-covid-data/rp_im/3.nii.gz is here 3.nii.gz\n",
      "image path for public-covid-data/rp_msk/3.nii.gz is here 3.nii.gz\n",
      "\n",
      "\n",
      "image path for public-covid-data/rp_im/4.nii.gz is here 4.nii.gz\n",
      "image path for public-covid-data/rp_msk/4.nii.gz is here 4.nii.gz\n",
      "\n",
      "\n",
      "image path for public-covid-data/rp_im/5.nii.gz is here 5.nii.gz\n",
      "image path for public-covid-data/rp_msk/5.nii.gz is here 5.nii.gz\n",
      "\n",
      "\n",
      "image path for public-covid-data/rp_im/6.nii.gz is here 6.nii.gz\n",
      "image path for public-covid-data/rp_msk/6.nii.gz is here 6.nii.gz\n",
      "\n",
      "\n",
      "image path for public-covid-data/rp_im/7.nii.gz is here 7.nii.gz\n",
      "image path for public-covid-data/rp_msk/7.nii.gz is here 7.nii.gz\n",
      "\n",
      "\n",
      "image path for public-covid-data/rp_im/8.nii.gz is here 8.nii.gz\n",
      "image path for public-covid-data/rp_msk/8.nii.gz is here 8.nii.gz\n",
      "\n",
      "\n",
      "image path for public-covid-data/rp_im/9.nii.gz is here 9.nii.gz\n",
      "image path for public-covid-data/rp_msk/9.nii.gz is here 9.nii.gz\n",
      "\n",
      "\n"
     ]
    }
   ],
   "source": [
    "for idx, row in df.iterrows():\n",
    "    print('image path for {} is here {}'.format(row[0], row[1]))\n",
    "    print('image path for {} is here {}'.format(row[2], row[1]))\n",
    "    print('\\n')"
   ]
  },
  {
   "cell_type": "code",
   "execution_count": 38,
   "metadata": {},
   "outputs": [
    {
     "name": "stderr",
     "output_type": "stream",
     "text": [
      "\n",
      "100%|██████████| 9/9 [00:00<00:00, 1356.36it/s]"
     ]
    },
    {
     "name": "stdout",
     "output_type": "stream",
     "text": [
      "image path for public-covid-data/rp_im/1.nii.gz is here 1.nii.gz\n",
      "image path for public-covid-data/rp_msk/1.nii.gz is here 1.nii.gz\n",
      "\n",
      "\n",
      "image path for public-covid-data/rp_im/2.nii.gz is here 2.nii.gz\n",
      "image path for public-covid-data/rp_msk/2.nii.gz is here 2.nii.gz\n",
      "\n",
      "\n",
      "image path for public-covid-data/rp_im/3.nii.gz is here 3.nii.gz\n",
      "image path for public-covid-data/rp_msk/3.nii.gz is here 3.nii.gz\n",
      "\n",
      "\n",
      "image path for public-covid-data/rp_im/4.nii.gz is here 4.nii.gz\n",
      "image path for public-covid-data/rp_msk/4.nii.gz is here 4.nii.gz\n",
      "\n",
      "\n",
      "image path for public-covid-data/rp_im/5.nii.gz is here 5.nii.gz\n",
      "image path for public-covid-data/rp_msk/5.nii.gz is here 5.nii.gz\n",
      "\n",
      "\n",
      "image path for public-covid-data/rp_im/6.nii.gz is here 6.nii.gz\n",
      "image path for public-covid-data/rp_msk/6.nii.gz is here 6.nii.gz\n",
      "\n",
      "\n",
      "image path for public-covid-data/rp_im/7.nii.gz is here 7.nii.gz\n",
      "image path for public-covid-data/rp_msk/7.nii.gz is here 7.nii.gz\n",
      "\n",
      "\n",
      "image path for public-covid-data/rp_im/8.nii.gz is here 8.nii.gz\n",
      "image path for public-covid-data/rp_msk/8.nii.gz is here 8.nii.gz\n",
      "\n",
      "\n",
      "image path for public-covid-data/rp_im/9.nii.gz is here 9.nii.gz\n",
      "image path for public-covid-data/rp_msk/9.nii.gz is here 9.nii.gz\n",
      "\n",
      "\n"
     ]
    },
    {
     "name": "stderr",
     "output_type": "stream",
     "text": [
      "\n"
     ]
    }
   ],
   "source": [
    "# tqdmを使う\n",
    "# dataframeではtqdmの処理のBarがでないので、total=len(**)で長さを入れる\n",
    "\n",
    "for idx, row in tqdm(df.iterrows(), total=len(df)):\n",
    "    print('image path for {} is here {}'.format(row[0], row[1]))\n",
    "    print('image path for {} is here {}'.format(row[2], row[1]))\n",
    "    print('\\n')"
   ]
  },
  {
   "cell_type": "markdown",
   "metadata": {},
   "source": [
    "### Nibabel\n",
    "\n",
    "NIfTI(Neuroimaging Informatics Technology Initiative)をPythonで扱う。\n",
    "\n",
    "NIfTIは主に脳のMRI画像のデータ形式に使われている。"
   ]
  },
  {
   "cell_type": "code",
   "execution_count": 39,
   "metadata": {},
   "outputs": [],
   "source": [
    "import nibabel as nib"
   ]
  },
  {
   "cell_type": "markdown",
   "metadata": {},
   "source": [
    "### nib.load()"
   ]
  },
  {
   "cell_type": "code",
   "execution_count": 40,
   "metadata": {},
   "outputs": [
    {
     "data": {
      "text/plain": [
       "<nibabel.nifti1.Nifti1Image at 0x7fa9df7a4c50>"
      ]
     },
     "execution_count": 40,
     "metadata": {},
     "output_type": "execute_result"
    }
   ],
   "source": [
    "path = df['path_im'].iloc[0]\n",
    "im_nifti = nib.load(path)\n",
    "im_nifti"
   ]
  },
  {
   "cell_type": "code",
   "execution_count": 41,
   "metadata": {},
   "outputs": [
    {
     "data": {
      "text/plain": [
       "array([[[-1414.76538086, -1414.76538086, -1414.76538086, ...,\n",
       "         -1414.76538086, -1414.76538086, -1414.76538086],\n",
       "        [-1414.76538086, -1414.76538086, -1414.76538086, ...,\n",
       "         -1414.76538086, -1414.76538086, -1414.76538086],\n",
       "        [-1414.76538086, -1414.76538086, -1414.76538086, ...,\n",
       "         -1414.76538086, -1414.76538086, -1414.76538086],\n",
       "        ...,\n",
       "        [-1414.76538086, -1414.76538086, -1414.76538086, ...,\n",
       "         -1414.76538086, -1414.76538086, -1414.76538086],\n",
       "        [-1414.76538086, -1414.76538086, -1414.76538086, ...,\n",
       "         -1414.76538086, -1414.76538086, -1414.76538086],\n",
       "        [-1414.76538086, -1414.76538086, -1414.76538086, ...,\n",
       "         -1414.76538086, -1414.76538086, -1414.76538086]],\n",
       "\n",
       "       [[-1414.76538086, -1414.76538086, -1414.76538086, ...,\n",
       "         -1414.76538086, -1414.76538086, -1414.76538086],\n",
       "        [-1414.76538086, -1414.76538086, -1414.76538086, ...,\n",
       "         -1414.76538086, -1414.76538086, -1414.76538086],\n",
       "        [-1414.76538086, -1414.76538086, -1414.76538086, ...,\n",
       "         -1414.76538086, -1414.76538086, -1414.76538086],\n",
       "        ...,\n",
       "        [-1414.76538086, -1414.76538086, -1414.76538086, ...,\n",
       "         -1414.76538086, -1414.76538086, -1414.76538086],\n",
       "        [-1414.76538086, -1414.76538086, -1414.76538086, ...,\n",
       "         -1414.76538086, -1414.76538086, -1414.76538086],\n",
       "        [-1414.76538086, -1414.76538086, -1414.76538086, ...,\n",
       "         -1414.76538086, -1414.76538086, -1414.76538086]],\n",
       "\n",
       "       [[-1414.76538086, -1414.76538086, -1414.76538086, ...,\n",
       "         -1414.76538086, -1414.76538086, -1414.76538086],\n",
       "        [-1414.76538086, -1414.76538086, -1414.76538086, ...,\n",
       "         -1414.76538086, -1414.76538086, -1414.76538086],\n",
       "        [-1414.76538086, -1414.76538086, -1414.76538086, ...,\n",
       "         -1414.76538086, -1414.76538086, -1414.76538086],\n",
       "        ...,\n",
       "        [-1414.76538086, -1414.76538086, -1414.76538086, ...,\n",
       "         -1414.76538086, -1414.76538086, -1414.76538086],\n",
       "        [-1414.76538086, -1414.76538086, -1414.76538086, ...,\n",
       "         -1414.76538086, -1414.76538086, -1414.76538086],\n",
       "        [-1414.76538086, -1414.76538086, -1414.76538086, ...,\n",
       "         -1414.76538086, -1414.76538086, -1414.76538086]],\n",
       "\n",
       "       ...,\n",
       "\n",
       "       [[-1414.76538086, -1414.76538086, -1414.76538086, ...,\n",
       "         -1414.76538086, -1414.76538086, -1414.76538086],\n",
       "        [-1414.76538086, -1414.76538086, -1414.76538086, ...,\n",
       "         -1414.76538086, -1414.76538086, -1414.76538086],\n",
       "        [-1414.76538086, -1414.76538086, -1414.76538086, ...,\n",
       "         -1414.76538086, -1414.76538086, -1414.76538086],\n",
       "        ...,\n",
       "        [-1414.76538086, -1414.76538086, -1414.76538086, ...,\n",
       "         -1414.76538086, -1414.76538086, -1414.76538086],\n",
       "        [-1414.76538086, -1414.76538086, -1414.76538086, ...,\n",
       "         -1414.76538086, -1414.76538086, -1414.76538086],\n",
       "        [-1414.76538086, -1414.76538086, -1414.76538086, ...,\n",
       "         -1414.76538086, -1414.76538086, -1414.76538086]],\n",
       "\n",
       "       [[-1414.76538086, -1414.76538086, -1414.76538086, ...,\n",
       "         -1414.76538086, -1414.76538086, -1414.76538086],\n",
       "        [-1414.76538086, -1414.76538086, -1414.76538086, ...,\n",
       "         -1414.76538086, -1414.76538086, -1414.76538086],\n",
       "        [-1414.76538086, -1414.76538086, -1414.76538086, ...,\n",
       "         -1414.76538086, -1414.76538086, -1414.76538086],\n",
       "        ...,\n",
       "        [-1414.76538086, -1414.76538086, -1414.76538086, ...,\n",
       "         -1414.76538086, -1414.76538086, -1414.76538086],\n",
       "        [-1414.76538086, -1414.76538086, -1414.76538086, ...,\n",
       "         -1414.76538086, -1414.76538086, -1414.76538086],\n",
       "        [-1414.76538086, -1414.76538086, -1414.76538086, ...,\n",
       "         -1414.76538086, -1414.76538086, -1414.76538086]],\n",
       "\n",
       "       [[-1414.76538086, -1414.76538086, -1414.76538086, ...,\n",
       "         -1414.76538086, -1414.76538086, -1414.76538086],\n",
       "        [-1414.76538086, -1414.76538086, -1414.76538086, ...,\n",
       "         -1414.76538086, -1414.76538086, -1414.76538086],\n",
       "        [-1414.76538086, -1414.76538086, -1414.76538086, ...,\n",
       "         -1414.76538086, -1414.76538086, -1414.76538086],\n",
       "        ...,\n",
       "        [-1414.76538086, -1414.76538086, -1414.76538086, ...,\n",
       "         -1414.76538086, -1414.76538086, -1414.76538086],\n",
       "        [-1414.76538086, -1414.76538086, -1414.76538086, ...,\n",
       "         -1414.76538086, -1414.76538086, -1414.76538086],\n",
       "        [-1414.76538086, -1414.76538086, -1414.76538086, ...,\n",
       "         -1414.76538086, -1414.76538086, -1414.76538086]]])"
      ]
     },
     "execution_count": 41,
     "metadata": {},
     "output_type": "execute_result"
    }
   ],
   "source": [
    "# numpy用の画像を引っ張ってくる\n",
    "\n",
    "data = im_nifti.get_fdata()\n",
    "data"
   ]
  },
  {
   "cell_type": "code",
   "execution_count": 42,
   "metadata": {},
   "outputs": [
    {
     "data": {
      "text/plain": [
       "(630, 630, 45)"
      ]
     },
     "execution_count": 42,
     "metadata": {},
     "output_type": "execute_result"
    }
   ],
   "source": [
    "data.shape"
   ]
  },
  {
   "cell_type": "markdown",
   "metadata": {},
   "source": [
    "630 * 630のデータが45枚入っている"
   ]
  },
  {
   "cell_type": "code",
   "execution_count": 43,
   "metadata": {},
   "outputs": [
    {
     "data": {
      "text/plain": [
       "<matplotlib.image.AxesImage at 0x7fa9deffcd10>"
      ]
     },
     "execution_count": 43,
     "metadata": {},
     "output_type": "execute_result"
    },
    {
     "data": {
      "image/png": "[encoded data removed]",
      "text/plain": [
       "<Figure size 432x288 with 1 Axes>"
      ]
     },
     "metadata": {
      "needs_background": "light"
     },
     "output_type": "display_data"
    }
   ],
   "source": [
    "plt.imshow(data[:, :, 20], cmap='gray')"
   ]
  },
  {
   "cell_type": "markdown",
   "metadata": {},
   "source": [
    "CT画像は画像右側の半円形の部分が患者がのる台座部分になるので、そこを下に表示させる必要がある。\n",
    "\n",
    "その為transposeを用いて転置をしてあげる必要がある。\n",
    "\n",
    "今回はCT画像で(width, height, z)のようになっていたので、\n",
    "`[:, :, 20]`でスライスすると(w, h)となり、横になってしまうのを、Transposeによって(z, w, h)として`[0, :, :]`のようにスライスして(h, w)とした。\n",
    "\n",
    "Transposeはshapeの順序を入れ替える。\n",
    "例えば、shapeが(1, 2, 3, 4)の場合、Transpose後は(4, 3, 2, 1)のようになる。"
   ]
  },
  {
   "cell_type": "code",
   "execution_count": 44,
   "metadata": {},
   "outputs": [
    {
     "name": "stdout",
     "output_type": "stream",
     "text": [
      "(45, 630, 630)\n"
     ]
    },
    {
     "data": {
      "image/png": "[encoded data removed]",
      "text/plain": [
       "<Figure size 432x288 with 1 Axes>"
      ]
     },
     "metadata": {
      "needs_background": "light"
     },
     "output_type": "display_data"
    }
   ],
   "source": [
    "data_t = np.transpose(data)\n",
    "plt.imshow(data_t[20, :, :], cmap='gray')\n",
    "print(data_t.shape)"
   ]
  },
  {
   "cell_type": "code",
   "execution_count": 45,
   "metadata": {},
   "outputs": [],
   "source": [
    "path_im = df['path_im'].iloc[0]\n",
    "path_msk = df['path_msk'].iloc[0]"
   ]
  },
  {
   "cell_type": "code",
   "execution_count": 46,
   "metadata": {},
   "outputs": [],
   "source": [
    "# 上記の処理を関数化する\n",
    "\n",
    "def load_nifti(path):\n",
    "    im_nifti = nib.load(path)\n",
    "    data = im_nifti.get_fdata()\n",
    "    data = np.transpose(data)\n",
    "    return data"
   ]
  },
  {
   "cell_type": "code",
   "execution_count": 47,
   "metadata": {},
   "outputs": [],
   "source": [
    "data_im = load_nifti(path_im)\n",
    "data_msk = load_nifti(path_msk)"
   ]
  },
  {
   "cell_type": "code",
   "execution_count": 48,
   "metadata": {},
   "outputs": [
    {
     "data": {
      "text/plain": [
       "<matplotlib.image.AxesImage at 0x7fa9dd397d90>"
      ]
     },
     "execution_count": 48,
     "metadata": {},
     "output_type": "execute_result"
    },
    {
     "data": {
      "image/png": "[encoded data removed]",
      "text/plain": [
       "<Figure size 432x288 with 1 Axes>"
      ]
     },
     "metadata": {
      "needs_background": "light"
     },
     "output_type": "display_data"
    }
   ],
   "source": [
    "plt.imshow(data_im[20, :, :], cmap='gray')"
   ]
  },
  {
   "cell_type": "code",
   "execution_count": 49,
   "metadata": {},
   "outputs": [
    {
     "data": {
      "text/plain": [
       "<matplotlib.image.AxesImage at 0x7fa9dd305f50>"
      ]
     },
     "execution_count": 49,
     "metadata": {},
     "output_type": "execute_result"
    },
    {
     "data": {
      "image/png": "[encoded data removed]",
      "text/plain": [
       "<Figure size 432x288 with 1 Axes>"
      ]
     },
     "metadata": {
      "needs_background": "light"
     },
     "output_type": "display_data"
    }
   ],
   "source": [
    "plt.imshow(data_msk[20, :, :], cmap='gray')"
   ]
  },
  {
   "cell_type": "code",
   "execution_count": 50,
   "metadata": {},
   "outputs": [
    {
     "data": {
      "text/plain": [
       "array([[0., 0., 0., ..., 0., 0., 0.],\n",
       "       [0., 0., 0., ..., 0., 0., 0.],\n",
       "       [0., 0., 0., ..., 0., 0., 0.],\n",
       "       ...,\n",
       "       [0., 0., 0., ..., 0., 0., 0.],\n",
       "       [0., 0., 0., ..., 0., 0., 0.],\n",
       "       [0., 0., 0., ..., 0., 0., 0.]])"
      ]
     },
     "execution_count": 50,
     "metadata": {},
     "output_type": "execute_result"
    }
   ],
   "source": [
    "# data_mskの中身をみる\n",
    "data_msk[20]"
   ]
  },
  {
   "cell_type": "code",
   "execution_count": 51,
   "metadata": {},
   "outputs": [
    {
     "data": {
      "text/plain": [
       "array([0., 1., 2.])"
      ]
     },
     "execution_count": 51,
     "metadata": {},
     "output_type": "execute_result"
    }
   ],
   "source": [
    "# 数値の組成を見てみる\n",
    "# 0:background, 1:ground-glass(GGO:すりガラス影), 2:Consolidation, \n",
    "# 3:plueral effusion(胸水)\n",
    "\n",
    "np.unique(data_msk[20])"
   ]
  },
  {
   "cell_type": "markdown",
   "metadata": {},
   "source": [
    "コンソリデーションとは、背景の血管や気管支壁が不明瞭化する程度の肺実質の吸収値の均等な上昇と定義されている。\n",
    "\n",
    "明らかな結節や腫瘍、胸水などの表現には用いず、濃厚な均等高吸収を呈する肺野内の広がりを示す画像所見に用いる。\n",
    "\n",
    "肺でのコンソリデーションの語源は、元々は、画像検査が出現するずっと以前、剖検病理において、肺炎により炎症細胞浸潤をおこした部位が正常含気肺に比べて、触診上硬くなっている状態を”consolidation”と表現したのが言葉の由来。"
   ]
  },
  {
   "cell_type": "code",
   "execution_count": 52,
   "metadata": {},
   "outputs": [
    {
     "data": {
      "text/html": [
       "<div>\n",
       "<style scoped>\n",
       "    .dataframe tbody tr th:only-of-type {\n",
       "        vertical-align: middle;\n",
       "    }\n",
       "\n",
       "    .dataframe tbody tr th {\n",
       "        vertical-align: top;\n",
       "    }\n",
       "\n",
       "    .dataframe thead th {\n",
       "        text-align: right;\n",
       "    }\n",
       "</style>\n",
       "<table border=\"1\" class=\"dataframe\">\n",
       "  <thead>\n",
       "    <tr style=\"text-align: right;\">\n",
       "      <th></th>\n",
       "      <th>path_im</th>\n",
       "      <th>filename</th>\n",
       "      <th>path_msk</th>\n",
       "      <th>slice_num</th>\n",
       "    </tr>\n",
       "  </thead>\n",
       "  <tbody>\n",
       "    <tr>\n",
       "      <th>0</th>\n",
       "      <td>public-covid-data/rp_im/1.nii.gz</td>\n",
       "      <td>1.nii.gz</td>\n",
       "      <td>public-covid-data/rp_msk/1.nii.gz</td>\n",
       "      <td>NaN</td>\n",
       "    </tr>\n",
       "    <tr>\n",
       "      <th>1</th>\n",
       "      <td>public-covid-data/rp_im/2.nii.gz</td>\n",
       "      <td>2.nii.gz</td>\n",
       "      <td>public-covid-data/rp_msk/2.nii.gz</td>\n",
       "      <td>NaN</td>\n",
       "    </tr>\n",
       "    <tr>\n",
       "      <th>2</th>\n",
       "      <td>public-covid-data/rp_im/3.nii.gz</td>\n",
       "      <td>3.nii.gz</td>\n",
       "      <td>public-covid-data/rp_msk/3.nii.gz</td>\n",
       "      <td>NaN</td>\n",
       "    </tr>\n",
       "    <tr>\n",
       "      <th>3</th>\n",
       "      <td>public-covid-data/rp_im/4.nii.gz</td>\n",
       "      <td>4.nii.gz</td>\n",
       "      <td>public-covid-data/rp_msk/4.nii.gz</td>\n",
       "      <td>NaN</td>\n",
       "    </tr>\n",
       "    <tr>\n",
       "      <th>4</th>\n",
       "      <td>public-covid-data/rp_im/5.nii.gz</td>\n",
       "      <td>5.nii.gz</td>\n",
       "      <td>public-covid-data/rp_msk/5.nii.gz</td>\n",
       "      <td>NaN</td>\n",
       "    </tr>\n",
       "    <tr>\n",
       "      <th>5</th>\n",
       "      <td>public-covid-data/rp_im/6.nii.gz</td>\n",
       "      <td>6.nii.gz</td>\n",
       "      <td>public-covid-data/rp_msk/6.nii.gz</td>\n",
       "      <td>NaN</td>\n",
       "    </tr>\n",
       "    <tr>\n",
       "      <th>6</th>\n",
       "      <td>public-covid-data/rp_im/7.nii.gz</td>\n",
       "      <td>7.nii.gz</td>\n",
       "      <td>public-covid-data/rp_msk/7.nii.gz</td>\n",
       "      <td>NaN</td>\n",
       "    </tr>\n",
       "    <tr>\n",
       "      <th>7</th>\n",
       "      <td>public-covid-data/rp_im/8.nii.gz</td>\n",
       "      <td>8.nii.gz</td>\n",
       "      <td>public-covid-data/rp_msk/8.nii.gz</td>\n",
       "      <td>NaN</td>\n",
       "    </tr>\n",
       "    <tr>\n",
       "      <th>8</th>\n",
       "      <td>public-covid-data/rp_im/9.nii.gz</td>\n",
       "      <td>9.nii.gz</td>\n",
       "      <td>public-covid-data/rp_msk/9.nii.gz</td>\n",
       "      <td>NaN</td>\n",
       "    </tr>\n",
       "  </tbody>\n",
       "</table>\n",
       "</div>"
      ],
      "text/plain": [
       "                            path_im  filename  \\\n",
       "0  public-covid-data/rp_im/1.nii.gz  1.nii.gz   \n",
       "1  public-covid-data/rp_im/2.nii.gz  2.nii.gz   \n",
       "2  public-covid-data/rp_im/3.nii.gz  3.nii.gz   \n",
       "3  public-covid-data/rp_im/4.nii.gz  4.nii.gz   \n",
       "4  public-covid-data/rp_im/5.nii.gz  5.nii.gz   \n",
       "5  public-covid-data/rp_im/6.nii.gz  6.nii.gz   \n",
       "6  public-covid-data/rp_im/7.nii.gz  7.nii.gz   \n",
       "7  public-covid-data/rp_im/8.nii.gz  8.nii.gz   \n",
       "8  public-covid-data/rp_im/9.nii.gz  9.nii.gz   \n",
       "\n",
       "                            path_msk  slice_num  \n",
       "0  public-covid-data/rp_msk/1.nii.gz        NaN  \n",
       "1  public-covid-data/rp_msk/2.nii.gz        NaN  \n",
       "2  public-covid-data/rp_msk/3.nii.gz        NaN  \n",
       "3  public-covid-data/rp_msk/4.nii.gz        NaN  \n",
       "4  public-covid-data/rp_msk/5.nii.gz        NaN  \n",
       "5  public-covid-data/rp_msk/6.nii.gz        NaN  \n",
       "6  public-covid-data/rp_msk/7.nii.gz        NaN  \n",
       "7  public-covid-data/rp_msk/8.nii.gz        NaN  \n",
       "8  public-covid-data/rp_msk/9.nii.gz        NaN  "
      ]
     },
     "execution_count": 52,
     "metadata": {},
     "output_type": "execute_result"
    }
   ],
   "source": [
    "# 各データにCTのスライス画像が何枚入っているかをみる\n",
    "# slice_numという新規で作ったcolumnsにしまう\n",
    "# まずNanのデータを入れた空のcolumnsを用意\n",
    "\n",
    "df['slice_num'] = np.nan\n",
    "df"
   ]
  },
  {
   "cell_type": "code",
   "execution_count": 53,
   "metadata": {},
   "outputs": [
    {
     "name": "stderr",
     "output_type": "stream",
     "text": [
      "\n",
      "  0%|          | 0/9 [00:00<?, ?it/s]\u001b[A"
     ]
    },
    {
     "name": "stdout",
     "output_type": "stream",
     "text": [
      "path_im       public-covid-data/rp_im/1.nii.gz\n",
      "filename                              1.nii.gz\n",
      "path_msk     public-covid-data/rp_msk/1.nii.gz\n",
      "slice_num                                  NaN\n",
      "Name: 0, dtype: object\n",
      "\n",
      "\n"
     ]
    },
    {
     "name": "stderr",
     "output_type": "stream",
     "text": [
      "\n",
      " 11%|█         | 1/9 [00:00<00:02,  2.98it/s]\u001b[A"
     ]
    },
    {
     "name": "stdout",
     "output_type": "stream",
     "text": [
      "(45, 630, 630)\n",
      "\n",
      "\n",
      "45\n",
      "path_im       public-covid-data/rp_im/2.nii.gz\n",
      "filename                              2.nii.gz\n",
      "path_msk     public-covid-data/rp_msk/2.nii.gz\n",
      "slice_num                                  NaN\n",
      "Name: 1, dtype: object\n",
      "\n",
      "\n"
     ]
    },
    {
     "name": "stderr",
     "output_type": "stream",
     "text": [
      "\n",
      " 22%|██▏       | 2/9 [00:00<00:02,  3.01it/s]\u001b[A"
     ]
    },
    {
     "name": "stdout",
     "output_type": "stream",
     "text": [
      "(39, 630, 630)\n",
      "\n",
      "\n",
      "39\n",
      "path_im       public-covid-data/rp_im/3.nii.gz\n",
      "filename                              3.nii.gz\n",
      "path_msk     public-covid-data/rp_msk/3.nii.gz\n",
      "slice_num                                  NaN\n",
      "Name: 2, dtype: object\n",
      "\n",
      "\n"
     ]
    },
    {
     "name": "stderr",
     "output_type": "stream",
     "text": [
      "\n",
      " 33%|███▎      | 3/9 [00:04<00:08,  1.45s/it]\u001b[A"
     ]
    },
    {
     "name": "stdout",
     "output_type": "stream",
     "text": [
      "(418, 630, 630)\n",
      "\n",
      "\n",
      "418\n",
      "path_im       public-covid-data/rp_im/4.nii.gz\n",
      "filename                              4.nii.gz\n",
      "path_msk     public-covid-data/rp_msk/4.nii.gz\n",
      "slice_num                                  NaN\n",
      "Name: 3, dtype: object\n",
      "\n",
      "\n"
     ]
    },
    {
     "name": "stderr",
     "output_type": "stream",
     "text": [
      "\n",
      " 44%|████▍     | 4/9 [00:05<00:05,  1.12s/it]\u001b[A"
     ]
    },
    {
     "name": "stdout",
     "output_type": "stream",
     "text": [
      "(39, 630, 630)\n",
      "\n",
      "\n",
      "39\n",
      "path_im       public-covid-data/rp_im/5.nii.gz\n",
      "filename                              5.nii.gz\n",
      "path_msk     public-covid-data/rp_msk/5.nii.gz\n",
      "slice_num                                  NaN\n",
      "Name: 4, dtype: object\n",
      "\n",
      "\n"
     ]
    },
    {
     "name": "stderr",
     "output_type": "stream",
     "text": [
      "\n",
      " 56%|█████▌    | 5/9 [00:05<00:03,  1.06it/s]\u001b[A"
     ]
    },
    {
     "name": "stdout",
     "output_type": "stream",
     "text": [
      "(66, 630, 630)\n",
      "\n",
      "\n",
      "66\n",
      "path_im       public-covid-data/rp_im/6.nii.gz\n",
      "filename                              6.nii.gz\n",
      "path_msk     public-covid-data/rp_msk/6.nii.gz\n",
      "slice_num                                  NaN\n",
      "Name: 5, dtype: object\n",
      "\n",
      "\n"
     ]
    },
    {
     "name": "stderr",
     "output_type": "stream",
     "text": [
      "\n",
      " 67%|██████▋   | 6/9 [00:05<00:02,  1.32it/s]\u001b[A"
     ]
    },
    {
     "name": "stdout",
     "output_type": "stream",
     "text": [
      "(42, 630, 630)\n",
      "\n",
      "\n",
      "42\n",
      "path_im       public-covid-data/rp_im/7.nii.gz\n",
      "filename                              7.nii.gz\n",
      "path_msk     public-covid-data/rp_msk/7.nii.gz\n",
      "slice_num                                  NaN\n",
      "Name: 6, dtype: object\n",
      "\n",
      "\n"
     ]
    },
    {
     "name": "stderr",
     "output_type": "stream",
     "text": [
      "\n",
      " 78%|███████▊  | 7/9 [00:06<00:01,  1.60it/s]\u001b[A"
     ]
    },
    {
     "name": "stdout",
     "output_type": "stream",
     "text": [
      "(42, 630, 630)\n",
      "\n",
      "\n",
      "42\n",
      "path_im       public-covid-data/rp_im/8.nii.gz\n",
      "filename                              8.nii.gz\n",
      "path_msk     public-covid-data/rp_msk/8.nii.gz\n",
      "slice_num                                  NaN\n",
      "Name: 7, dtype: object\n",
      "\n",
      "\n"
     ]
    },
    {
     "name": "stderr",
     "output_type": "stream",
     "text": [
      "\n",
      " 89%|████████▉ | 8/9 [00:06<00:00,  1.90it/s]\u001b[A"
     ]
    },
    {
     "name": "stdout",
     "output_type": "stream",
     "text": [
      "(45, 630, 630)\n",
      "\n",
      "\n",
      "45\n",
      "path_im       public-covid-data/rp_im/9.nii.gz\n",
      "filename                              9.nii.gz\n",
      "path_msk     public-covid-data/rp_msk/9.nii.gz\n",
      "slice_num                                  NaN\n",
      "Name: 8, dtype: object\n",
      "\n",
      "\n"
     ]
    },
    {
     "name": "stderr",
     "output_type": "stream",
     "text": [
      "\n",
      "100%|██████████| 9/9 [00:07<00:00,  1.24it/s]\u001b[A"
     ]
    },
    {
     "name": "stdout",
     "output_type": "stream",
     "text": [
      "(93, 630, 630)\n",
      "\n",
      "\n",
      "93\n"
     ]
    },
    {
     "name": "stderr",
     "output_type": "stream",
     "text": [
      "\n"
     ]
    }
   ],
   "source": [
    "for idx, row in tqdm(df.iterrows(), total=len(df)):\n",
    "    print(row)# 各ファイルのパスを取ってくる\n",
    "    print('\\n')\n",
    "    data = load_nifti(row['path_im'])# path-imをload_nifti関数に入れる\n",
    "    print(data.shape)# dataには転置されたCT画像が入ってくる（num, width, height）\n",
    "    print('\\n')\n",
    "    slice_num = data.shape[0]# \n",
    "    df.loc[idx, 'slice_num'] = slice_num# idxとcolumnsの両方で指定\n",
    "    print(slice_num)"
   ]
  },
  {
   "cell_type": "code",
   "execution_count": 54,
   "metadata": {},
   "outputs": [
    {
     "data": {
      "text/html": [
       "<div>\n",
       "<style scoped>\n",
       "    .dataframe tbody tr th:only-of-type {\n",
       "        vertical-align: middle;\n",
       "    }\n",
       "\n",
       "    .dataframe tbody tr th {\n",
       "        vertical-align: top;\n",
       "    }\n",
       "\n",
       "    .dataframe thead th {\n",
       "        text-align: right;\n",
       "    }\n",
       "</style>\n",
       "<table border=\"1\" class=\"dataframe\">\n",
       "  <thead>\n",
       "    <tr style=\"text-align: right;\">\n",
       "      <th></th>\n",
       "      <th>path_im</th>\n",
       "      <th>filename</th>\n",
       "      <th>path_msk</th>\n",
       "      <th>slice_num</th>\n",
       "    </tr>\n",
       "  </thead>\n",
       "  <tbody>\n",
       "    <tr>\n",
       "      <th>0</th>\n",
       "      <td>public-covid-data/rp_im/1.nii.gz</td>\n",
       "      <td>1.nii.gz</td>\n",
       "      <td>public-covid-data/rp_msk/1.nii.gz</td>\n",
       "      <td>45.0</td>\n",
       "    </tr>\n",
       "    <tr>\n",
       "      <th>1</th>\n",
       "      <td>public-covid-data/rp_im/2.nii.gz</td>\n",
       "      <td>2.nii.gz</td>\n",
       "      <td>public-covid-data/rp_msk/2.nii.gz</td>\n",
       "      <td>39.0</td>\n",
       "    </tr>\n",
       "    <tr>\n",
       "      <th>2</th>\n",
       "      <td>public-covid-data/rp_im/3.nii.gz</td>\n",
       "      <td>3.nii.gz</td>\n",
       "      <td>public-covid-data/rp_msk/3.nii.gz</td>\n",
       "      <td>418.0</td>\n",
       "    </tr>\n",
       "    <tr>\n",
       "      <th>3</th>\n",
       "      <td>public-covid-data/rp_im/4.nii.gz</td>\n",
       "      <td>4.nii.gz</td>\n",
       "      <td>public-covid-data/rp_msk/4.nii.gz</td>\n",
       "      <td>39.0</td>\n",
       "    </tr>\n",
       "    <tr>\n",
       "      <th>4</th>\n",
       "      <td>public-covid-data/rp_im/5.nii.gz</td>\n",
       "      <td>5.nii.gz</td>\n",
       "      <td>public-covid-data/rp_msk/5.nii.gz</td>\n",
       "      <td>66.0</td>\n",
       "    </tr>\n",
       "    <tr>\n",
       "      <th>5</th>\n",
       "      <td>public-covid-data/rp_im/6.nii.gz</td>\n",
       "      <td>6.nii.gz</td>\n",
       "      <td>public-covid-data/rp_msk/6.nii.gz</td>\n",
       "      <td>42.0</td>\n",
       "    </tr>\n",
       "    <tr>\n",
       "      <th>6</th>\n",
       "      <td>public-covid-data/rp_im/7.nii.gz</td>\n",
       "      <td>7.nii.gz</td>\n",
       "      <td>public-covid-data/rp_msk/7.nii.gz</td>\n",
       "      <td>42.0</td>\n",
       "    </tr>\n",
       "    <tr>\n",
       "      <th>7</th>\n",
       "      <td>public-covid-data/rp_im/8.nii.gz</td>\n",
       "      <td>8.nii.gz</td>\n",
       "      <td>public-covid-data/rp_msk/8.nii.gz</td>\n",
       "      <td>45.0</td>\n",
       "    </tr>\n",
       "    <tr>\n",
       "      <th>8</th>\n",
       "      <td>public-covid-data/rp_im/9.nii.gz</td>\n",
       "      <td>9.nii.gz</td>\n",
       "      <td>public-covid-data/rp_msk/9.nii.gz</td>\n",
       "      <td>93.0</td>\n",
       "    </tr>\n",
       "  </tbody>\n",
       "</table>\n",
       "</div>"
      ],
      "text/plain": [
       "                            path_im  filename  \\\n",
       "0  public-covid-data/rp_im/1.nii.gz  1.nii.gz   \n",
       "1  public-covid-data/rp_im/2.nii.gz  2.nii.gz   \n",
       "2  public-covid-data/rp_im/3.nii.gz  3.nii.gz   \n",
       "3  public-covid-data/rp_im/4.nii.gz  4.nii.gz   \n",
       "4  public-covid-data/rp_im/5.nii.gz  5.nii.gz   \n",
       "5  public-covid-data/rp_im/6.nii.gz  6.nii.gz   \n",
       "6  public-covid-data/rp_im/7.nii.gz  7.nii.gz   \n",
       "7  public-covid-data/rp_im/8.nii.gz  8.nii.gz   \n",
       "8  public-covid-data/rp_im/9.nii.gz  9.nii.gz   \n",
       "\n",
       "                            path_msk  slice_num  \n",
       "0  public-covid-data/rp_msk/1.nii.gz       45.0  \n",
       "1  public-covid-data/rp_msk/2.nii.gz       39.0  \n",
       "2  public-covid-data/rp_msk/3.nii.gz      418.0  \n",
       "3  public-covid-data/rp_msk/4.nii.gz       39.0  \n",
       "4  public-covid-data/rp_msk/5.nii.gz       66.0  \n",
       "5  public-covid-data/rp_msk/6.nii.gz       42.0  \n",
       "6  public-covid-data/rp_msk/7.nii.gz       42.0  \n",
       "7  public-covid-data/rp_msk/8.nii.gz       45.0  \n",
       "8  public-covid-data/rp_msk/9.nii.gz       93.0  "
      ]
     },
     "execution_count": 54,
     "metadata": {},
     "output_type": "execute_result"
    }
   ],
   "source": [
    "df"
   ]
  },
  {
   "cell_type": "code",
   "execution_count": 55,
   "metadata": {},
   "outputs": [
    {
     "data": {
      "text/plain": [
       "<matplotlib.axes._subplots.AxesSubplot at 0x7fa9decc23d0>"
      ]
     },
     "execution_count": 55,
     "metadata": {},
     "output_type": "execute_result"
    },
    {
     "data": {
      "image/png": "[encoded data removed]",
      "text/plain": [
       "<Figure size 432x288 with 1 Axes>"
      ]
     },
     "metadata": {
      "needs_background": "light"
     },
     "output_type": "display_data"
    }
   ],
   "source": [
    "# 各データの分布を見てみる\n",
    "\n",
    "sns.distplot(df['slice_num'])"
   ]
  },
  {
   "cell_type": "markdown",
   "metadata": {},
   "source": [
    "### Multiprocessing"
   ]
  },
  {
   "cell_type": "code",
   "execution_count": 56,
   "metadata": {},
   "outputs": [],
   "source": [
    "from multiprocessing import Pool, cpu_count\n",
    "import time"
   ]
  },
  {
   "cell_type": "markdown",
   "metadata": {},
   "source": [
    "### map(func, *iterables)\n",
    "\n",
    "1個目の引数に入れた関数を、2個目の引数に入ったイテレーターに適応する。\n",
    "\n",
    "返り値はイテレーターで返ってくる。"
   ]
  },
  {
   "cell_type": "code",
   "execution_count": 57,
   "metadata": {},
   "outputs": [
    {
     "data": {
      "text/plain": [
       "<map at 0x7fa9dd1fc1d0>"
      ]
     },
     "execution_count": 57,
     "metadata": {},
     "output_type": "execute_result"
    }
   ],
   "source": [
    "def square(n):\n",
    "    return n ** 2\n",
    "\n",
    "params = [1, 2, 3, 4]\n",
    "map(square, params)"
   ]
  },
  {
   "cell_type": "code",
   "execution_count": 58,
   "metadata": {},
   "outputs": [
    {
     "data": {
      "text/plain": [
       "[1, 4, 9, 16]"
      ]
     },
     "execution_count": 58,
     "metadata": {},
     "output_type": "execute_result"
    }
   ],
   "source": [
    "list(map(square, params))"
   ]
  },
  {
   "cell_type": "code",
   "execution_count": 59,
   "metadata": {},
   "outputs": [],
   "source": [
    "i = map(square, params)"
   ]
  },
  {
   "cell_type": "code",
   "execution_count": 60,
   "metadata": {},
   "outputs": [
    {
     "data": {
      "text/plain": [
       "1"
      ]
     },
     "execution_count": 60,
     "metadata": {},
     "output_type": "execute_result"
    }
   ],
   "source": [
    "#イテレーターはnext()に入れると、次々に連続した値を返してくれる。\n",
    "next(i)"
   ]
  },
  {
   "cell_type": "code",
   "execution_count": 61,
   "metadata": {},
   "outputs": [
    {
     "data": {
      "text/plain": [
       "[1, 4, 9, 16]"
      ]
     },
     "execution_count": 61,
     "metadata": {},
     "output_type": "execute_result"
    }
   ],
   "source": [
    "# pythonではリスト内包表記があるのであまり使われない\n",
    "\n",
    "[square(p) for p in params]"
   ]
  },
  {
   "cell_type": "markdown",
   "metadata": {},
   "source": [
    "### Pool.map()とPool.imap()"
   ]
  },
  {
   "cell_type": "code",
   "execution_count": 62,
   "metadata": {},
   "outputs": [
    {
     "data": {
      "text/plain": [
       "8"
      ]
     },
     "execution_count": 62,
     "metadata": {},
     "output_type": "execute_result"
    }
   ],
   "source": [
    "# 使用できるcpuの物理コア数を確認してみる\n",
    "\n",
    "cpu_count()"
   ]
  },
  {
   "cell_type": "code",
   "execution_count": 63,
   "metadata": {},
   "outputs": [],
   "source": [
    "# time.sleep(n)でn秒間何もしない関数を作る\n",
    "# returnにして欲しい処理を記載\n",
    "# sec秒後にreturnの処理を行う関数を作成\n",
    "\n",
    "def wait_sec(sec):\n",
    "    time.sleep(sec)\n",
    "    return sec ** 2"
   ]
  },
  {
   "cell_type": "code",
   "execution_count": 64,
   "metadata": {},
   "outputs": [
    {
     "data": {
      "text/plain": [
       "4"
      ]
     },
     "execution_count": 64,
     "metadata": {},
     "output_type": "execute_result"
    }
   ],
   "source": [
    "# 2秒後に2**2の処理がされて4が出力される\n",
    "\n",
    "wait_sec(2)"
   ]
  },
  {
   "cell_type": "code",
   "execution_count": 65,
   "metadata": {},
   "outputs": [
    {
     "name": "stdout",
     "output_type": "stream",
     "text": [
      "[1, 25, 9]\n",
      "it tooks 9.017221689224243\n"
     ]
    }
   ],
   "source": [
    "# pythonのmap関数は一つの物理コアCPUに演算をさせる\n",
    "\n",
    "before = time.time()\n",
    "results = list(map(wait_sec, [1, 5, 3]))\n",
    "after = time.time()\n",
    "print(results)\n",
    "print('it tooks {}'.format(after - before))"
   ]
  },
  {
   "cell_type": "code",
   "execution_count": 66,
   "metadata": {},
   "outputs": [
    {
     "data": {
      "text/plain": [
       "<multiprocessing.pool.Pool at 0x7fa9dd224510>"
      ]
     },
     "execution_count": 66,
     "metadata": {},
     "output_type": "execute_result"
    }
   ],
   "source": [
    "# コア数を指定して処理を行う\n",
    "# コア数を指定\n",
    "\n",
    "p = Pool(processes=cpu_count()-1)\n",
    "p"
   ]
  },
  {
   "cell_type": "code",
   "execution_count": 67,
   "metadata": {},
   "outputs": [
    {
     "name": "stdout",
     "output_type": "stream",
     "text": [
      "[1, 25, 9]\n",
      "it tooks 5.013274669647217\n"
     ]
    }
   ],
   "source": [
    "# pool.mapは複数のCPUに並列処理をさせる\n",
    "# この場合だと[1, 5, 3]の３つの数が、それぞれのCPUで演算処理を受けている\n",
    "# resultsのリストには処理の早い順に、1**2, 3**2, が入って、最後に5**2が入る\n",
    "# 最後の演算が終わった時間が今回の演算速度となる為、計算速度は5秒となっている\n",
    "\n",
    "before = time.time()\n",
    "results = p.map(wait_sec, [1, 5, 3])\n",
    "after = time.time()\n",
    "print(results)\n",
    "print('it tooks {}'.format(after - before))"
   ]
  },
  {
   "cell_type": "code",
   "execution_count": 69,
   "metadata": {},
   "outputs": [
    {
     "name": "stdout",
     "output_type": "stream",
     "text": [
      "1, Each time tooks 1.0034470558166504sec\n",
      "25, Each time tooks 5.008343458175659sec\n",
      "9, Each time tooks 5.008660554885864sec\n",
      "[1, 25, 9]\n",
      "Total time took 5.010242462158203\n"
     ]
    }
   ],
   "source": [
    "# p.imapはイテレーターを返してくれる\n",
    "# for文に入れて処理を確認してみる\n",
    "# イテレーターの順に演算処理がされるので、1**2→5**2→3**2の順で処理が行われる\n",
    "\n",
    "before = time.time()\n",
    "for i in p.imap(wait_sec, [1, 5, 3]):\n",
    "    print('{}, Each time tooks {}sec'.format(i, time.time() - before))\n",
    "after = time.time()\n",
    "print(results)\n",
    "print('Total time took {} sec'.format(after - before))"
   ]
  },
  {
   "cell_type": "code",
   "execution_count": 71,
   "metadata": {},
   "outputs": [
    {
     "name": "stderr",
     "output_type": "stream",
     "text": [
      "\n",
      "  0%|          | 0/3 [00:00<?, ?it/s]\u001b[A\n",
      " 33%|███▎      | 1/3 [00:00<00:01,  1.00it/s]\u001b[A\n",
      "100%|██████████| 3/3 [00:05<00:00,  1.67s/it]\u001b[A"
     ]
    },
    {
     "name": "stdout",
     "output_type": "stream",
     "text": [
      "[1, 25, 9]\n",
      "it tooks 5.018226861953735 sec\n"
     ]
    },
    {
     "name": "stderr",
     "output_type": "stream",
     "text": [
      "\n"
     ]
    }
   ],
   "source": [
    "# 本来のp.imapは以下のような形で書く\n",
    "# イテレーターを返してくれるので、tqdmに入れることができる\n",
    "\n",
    "before = time.time()\n",
    "results = list(tqdm(p.imap(wait_sec, [1, 5, 3]), total=3))\n",
    "after = time.time()\n",
    "print(results)\n",
    "print('it tooks {} sec'.format(after - before))"
   ]
  },
  {
   "cell_type": "code",
   "execution_count": 73,
   "metadata": {},
   "outputs": [
    {
     "name": "stdout",
     "output_type": "stream",
     "text": [
      "1, Each time tooks 1.006356954574585sec\n",
      "9, Each time tooks 3.004133462905884sec\n",
      "25, Each time tooks 5.007692098617554sec\n",
      "[1, 9, 25]\n",
      "Total time took 5.008322715759277 sec\n"
     ]
    }
   ],
   "source": [
    "# p.imap_unorderedにすると処理速度の早い順に処理してくれる\n",
    "\n",
    "before = time.time()\n",
    "for i in p.imap_unordered(wait_sec, [1, 5, 3]):\n",
    "    print('{}, Each time tooks {}sec'.format(i, time.time() - before))\n",
    "after = time.time()\n",
    "print(results)\n",
    "print('Total time took {} sec'.format(after - before))"
   ]
  },
  {
   "cell_type": "code",
   "execution_count": 72,
   "metadata": {},
   "outputs": [
    {
     "name": "stderr",
     "output_type": "stream",
     "text": [
      "\n",
      "  0%|          | 0/3 [00:00<?, ?it/s]\u001b[A\n",
      " 33%|███▎      | 1/3 [00:00<00:01,  1.00it/s]\u001b[A\n",
      " 67%|██████▋   | 2/3 [00:03<00:01,  1.30s/it]\u001b[A\n",
      "100%|██████████| 3/3 [00:05<00:00,  1.67s/it]\u001b[A"
     ]
    },
    {
     "name": "stdout",
     "output_type": "stream",
     "text": [
      "[1, 9, 25]\n",
      "it tooks 5.016034126281738 sec\n"
     ]
    },
    {
     "name": "stderr",
     "output_type": "stream",
     "text": [
      "\n"
     ]
    }
   ],
   "source": [
    "# tqdmに入れると少し処理が遅くなる\n",
    "\n",
    "before = time.time()\n",
    "results = list(tqdm(p.imap_unordered(wait_sec, [1, 5, 3]), total=3))\n",
    "after = time.time()\n",
    "print(results)\n",
    "print('it tooks {} sec'.format(after - before))"
   ]
  },
  {
   "cell_type": "code",
   "execution_count": 76,
   "metadata": {},
   "outputs": [
    {
     "name": "stdout",
     "output_type": "stream",
     "text": [
      "[(1, 10), (2, 30), (3, 70), (4, 20)]\n",
      "[10, 60, 210, 80]\n"
     ]
    },
    {
     "data": {
      "text/plain": [
       "<bound method Pool.join of <multiprocessing.pool.Pool object at 0x7fa9dd2bf890>>"
      ]
     },
     "execution_count": 76,
     "metadata": {},
     "output_type": "execute_result"
    }
   ],
   "source": [
    "# p.imapは単独の引数しか入れられない\n",
    "# もし複数のイテレーターでの計算を行う場合はwrapper（ラッパー）関数を使ってあげると良い\n",
    "# zip関数を用いると、異なる2つのリストのインデックスが同じもの同士をタプルにして返す\n",
    "\n",
    "def multiply(a, b):\n",
    "    return a * b\n",
    "\n",
    "def wrap_multiply(args):\n",
    "    return multiply(*args)\n",
    "\n",
    "param1 = [1, 2, 3, 4]\n",
    "param2 = [10, 30, 70, 20]\n",
    "job_args = list(zip(param1, param2))\n",
    "print(job_args)\n",
    "\n",
    "p = Pool(processes=cpu_count()-1)\n",
    "\n",
    "results = list(p.imap(wrap_multiply, job_args))\n",
    "print(results)\n",
    "\n",
    "# pというインスタンスを閉じて並列処理を終了してあげる\n",
    "p.close()\n",
    "p.join"
   ]
  },
  {
   "cell_type": "markdown",
   "metadata": {},
   "source": [
    "### Pythonスクリプトを別ファイルに保存してJupyterで読み込む"
   ]
  },
  {
   "cell_type": "code",
   "execution_count": 80,
   "metadata": {},
   "outputs": [],
   "source": [
    "# やり方その１\n",
    "\n",
    "from util import multiply"
   ]
  },
  {
   "cell_type": "code",
   "execution_count": 82,
   "metadata": {},
   "outputs": [
    {
     "data": {
      "text/plain": [
       "6"
      ]
     },
     "execution_count": 82,
     "metadata": {},
     "output_type": "execute_result"
    }
   ],
   "source": [
    "multiply(3, 2)"
   ]
  },
  {
   "cell_type": "code",
   "execution_count": 83,
   "metadata": {},
   "outputs": [],
   "source": [
    "# やり方その2\n",
    "\n",
    "import util"
   ]
  },
  {
   "cell_type": "code",
   "execution_count": 84,
   "metadata": {},
   "outputs": [
    {
     "data": {
      "text/plain": [
       "6"
      ]
     },
     "execution_count": 84,
     "metadata": {},
     "output_type": "execute_result"
    }
   ],
   "source": [
    "util.multiply(3, 2)"
   ]
  },
  {
   "cell_type": "code",
   "execution_count": 87,
   "metadata": {},
   "outputs": [
    {
     "name": "stdout",
     "output_type": "stream",
     "text": [
      "The autoreload extension is already loaded. To reload it, use:\n",
      "  %reload_ext autoreload\n",
      "3×2=6!!!\n"
     ]
    },
    {
     "data": {
      "text/plain": [
       "6"
      ]
     },
     "execution_count": 87,
     "metadata": {},
     "output_type": "execute_result"
    }
   ],
   "source": [
    "# 他のファイルの変更内容を常に反映させる\n",
    "\n",
    "%load_ext autoreload\n",
    "# 1:反映しない, 2:今だけ反映する, 3:更新の度に反映する\n",
    "%autoreload 2\n",
    "\n",
    "util.multiply2(3, 2)"
   ]
  },
  {
   "cell_type": "code",
   "execution_count": null,
   "metadata": {},
   "outputs": [],
   "source": []
  }
 ],
 "metadata": {
  "kernelspec": {
   "display_name": "Python 3",
   "language": "python",
   "name": "python3"
  },
  "language_info": {
   "codemirror_mode": {
    "name": "ipython",
    "version": 3
   },
   "file_extension": ".py",
   "mimetype": "text/x-python",
   "name": "python",
   "nbconvert_exporter": "python",
   "pygments_lexer": "ipython3",
   "version": "3.7.6"
  }
 },
 "nbformat": 4,
 "nbformat_minor": 4
}
