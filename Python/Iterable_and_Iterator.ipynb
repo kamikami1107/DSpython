{
 "cells": [
  {
   "cell_type": "markdown",
   "metadata": {},
   "source": [
    "# IterableとIterator"
   ]
  },
  {
   "cell_type": "markdown",
   "metadata": {},
   "source": [
    "- Iterable : String, Tuple, Set, Dict\n",
    "- Not Iterable : Integer, Float, Boolean"
   ]
  },
  {
   "cell_type": "markdown",
   "metadata": {},
   "source": [
    "- Iterable : iter()関数でIteratorを返すオブジェクト\n",
    "- Iterator : next()関数でIterationできるオブジェクト..."
   ]
  },
  {
   "cell_type": "code",
   "execution_count": 1,
   "metadata": {},
   "outputs": [
    {
     "name": "stdout",
     "output_type": "stream",
     "text": [
      "red\n",
      "blue\n",
      "green\n",
      "yellow\n",
      "white\n"
     ]
    }
   ],
   "source": [
    "#colorsはListなのでIterable\n",
    "colors = ['red', 'blue', 'green', 'yellow', 'white']\n",
    "for color in colors:\n",
    "    print(color)"
   ]
  },
  {
   "cell_type": "code",
   "execution_count": 2,
   "metadata": {},
   "outputs": [
    {
     "name": "stdout",
     "output_type": "stream",
     "text": [
      "r\n",
      "e\n",
      "d\n"
     ]
    }
   ],
   "source": [
    "#redはStringなのでIterable\n",
    "for char in 'red':\n",
    "    print(char)"
   ]
  },
  {
   "cell_type": "code",
   "execution_count": 5,
   "metadata": {},
   "outputs": [
    {
     "name": "stdout",
     "output_type": "stream",
     "text": [
      "<list_iterator object at 0x7f2ef0695f10>\n",
      "blue\n"
     ]
    }
   ],
   "source": [
    "#for文の中身を確認\n",
    "#for文はiter() + next()\n",
    "\n",
    "colors_i = iter(colors) #colors_iはIterable\n",
    "next(colors_i)\n",
    "\n",
    "print(colors_i)\n",
    "print(next(colors_i)) #runする度にcolorsのリストの中身が一つずつ取り出される"
   ]
  },
  {
   "cell_type": "markdown",
   "metadata": {},
   "source": [
    "**IteratorそのものもIterable!!**"
   ]
  },
  {
   "cell_type": "code",
   "execution_count": 6,
   "metadata": {},
   "outputs": [
    {
     "data": {
      "text/plain": [
       "<list_iterator at 0x7f2ef0695f10>"
      ]
     },
     "execution_count": 6,
     "metadata": {},
     "output_type": "execute_result"
    }
   ],
   "source": [
    "iter(colors_i)"
   ]
  },
  {
   "cell_type": "code",
   "execution_count": null,
   "metadata": {},
   "outputs": [],
   "source": []
  }
 ],
 "metadata": {
  "kernelspec": {
   "display_name": "Python 3",
   "language": "python",
   "name": "python3"
  },
  "language_info": {
   "codemirror_mode": {
    "name": "ipython",
    "version": 3
   },
   "file_extension": ".py",
   "mimetype": "text/x-python",
   "name": "python",
   "nbconvert_exporter": "python",
   "pygments_lexer": "ipython3",
   "version": "3.7.6"
  }
 },
 "nbformat": 4,
 "nbformat_minor": 4
}
