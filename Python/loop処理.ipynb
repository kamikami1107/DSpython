{
 "cells": [
  {
   "cell_type": "markdown",
   "metadata": {},
   "source": [
    "# Loop処理"
   ]
  },
  {
   "cell_type": "markdown",
   "metadata": {},
   "source": [
    "## for文"
   ]
  },
  {
   "cell_type": "code",
   "execution_count": 1,
   "metadata": {},
   "outputs": [],
   "source": [
    "colors = ['red', 'blue', 'green', 'yellow', 'white']"
   ]
  },
  {
   "cell_type": "code",
   "execution_count": 2,
   "metadata": {},
   "outputs": [
    {
     "name": "stdout",
     "output_type": "stream",
     "text": [
      "red\n",
      "blue\n",
      "green\n",
      "yellow\n",
      "white\n"
     ]
    }
   ],
   "source": [
    "for color in colors:\n",
    "    print(color)"
   ]
  },
  {
   "cell_type": "code",
   "execution_count": 3,
   "metadata": {},
   "outputs": [
    {
     "name": "stdout",
     "output_type": "stream",
     "text": [
      "the color is NOT my favorite\n",
      "the color is my favorite\n",
      "the color is NOT my favorite\n",
      "the color is NOT my favorite\n",
      "the color is NOT my favorite\n"
     ]
    }
   ],
   "source": [
    "for color in colors:\n",
    "    if color == 'blue':\n",
    "        print('the color is my favorite')\n",
    "    else:\n",
    "        print('the color is NOT my favorite')"
   ]
  },
  {
   "cell_type": "code",
   "execution_count": 4,
   "metadata": {},
   "outputs": [
    {
     "name": "stdout",
     "output_type": "stream",
     "text": [
      "red is NOT my favorite\n",
      "blue is my favorite\n",
      "green is NOT my favorite\n",
      "yellow is NOT my favorite\n",
      "white is NOT my favorite\n"
     ]
    }
   ],
   "source": [
    "colors = ['red', 'blue', 'green', 'yellow', 'white']\n",
    "favorite_color = 'blue'\n",
    "\n",
    "for color in colors:\n",
    "    if color == favorite_color:\n",
    "        print('{} is my favorite'.format(color))\n",
    "    else:\n",
    "        print('{} is NOT my favorite'.format(color))"
   ]
  },
  {
   "cell_type": "code",
   "execution_count": 5,
   "metadata": {},
   "outputs": [
    {
     "data": {
      "text/plain": [
       "[1, 2, 3, 4, 5, 6, 7, 8, 9]"
      ]
     },
     "execution_count": 5,
     "metadata": {},
     "output_type": "execute_result"
    }
   ],
   "source": [
    "list(range(1, 10))"
   ]
  },
  {
   "cell_type": "code",
   "execution_count": 6,
   "metadata": {},
   "outputs": [
    {
     "data": {
      "text/plain": [
       "[1, 3, 5, 7, 9]"
      ]
     },
     "execution_count": 6,
     "metadata": {},
     "output_type": "execute_result"
    }
   ],
   "source": [
    "list(range(1, 10, 2))"
   ]
  },
  {
   "cell_type": "code",
   "execution_count": 7,
   "metadata": {},
   "outputs": [
    {
     "name": "stdout",
     "output_type": "stream",
     "text": [
      "1\n",
      "3\n",
      "5\n",
      "7\n",
      "9\n"
     ]
    }
   ],
   "source": [
    "for i in range(1, 10, 2):\n",
    "    print(i)"
   ]
  },
  {
   "cell_type": "code",
   "execution_count": 8,
   "metadata": {},
   "outputs": [
    {
     "name": "stdout",
     "output_type": "stream",
     "text": [
      "0: red is NOT my favorite\n",
      "1: blue is my favorite\n",
      "2: green is NOT my favorite\n",
      "3: yellow is NOT my favorite\n",
      "4: white is NOT my favorite\n"
     ]
    }
   ],
   "source": [
    "#enumerateでインデックスごと引っ張ってくる\n",
    "\n",
    "for idx, color in enumerate(colors):\n",
    "    if color == favorite_color:\n",
    "        print('{}: {} is my favorite'.format(idx, color))\n",
    "    else:\n",
    "        print('{}: {} is NOT my favorite'.format(idx, color))\n",
    "    "
   ]
  },
  {
   "cell_type": "markdown",
   "metadata": {},
   "source": [
    "# リスト内包表記(List Comprehensions)"
   ]
  },
  {
   "cell_type": "code",
   "execution_count": 9,
   "metadata": {},
   "outputs": [],
   "source": [
    "colors = ['red', 'blue', 'green', 'yellow', 'white']\n",
    "colors_png = ['red.png', 'blue.png', 'green.png', 'yellow.png', 'white.png']"
   ]
  },
  {
   "cell_type": "code",
   "execution_count": 10,
   "metadata": {},
   "outputs": [],
   "source": [
    "import time"
   ]
  },
  {
   "cell_type": "code",
   "execution_count": 11,
   "metadata": {},
   "outputs": [
    {
     "name": "stdout",
     "output_type": "stream",
     "text": [
      "経過時間：0.303530216217041\n"
     ]
    }
   ],
   "source": [
    "#処理時間を計算する関数\n",
    "\n",
    "# 処理前の時刻\n",
    "t1 = time.time() \n",
    " \n",
    "# 計測したい処理\n",
    "for i in range(1000000):\n",
    "    i ** 10\n",
    " \n",
    "# 処理後の時刻\n",
    "t2 = time.time()\n",
    " \n",
    "# 経過時間を表示\n",
    "elapsed_time_ = t2-t1\n",
    "print(f\"経過時間：{elapsed_time_}\")"
   ]
  },
  {
   "cell_type": "code",
   "execution_count": 12,
   "metadata": {},
   "outputs": [],
   "source": [
    "#for文どうしの比較\n",
    "elapsed_time_1 = []\n",
    "\n",
    "#for文とList内表記の比較\n",
    "elapsed_time_2 = []"
   ]
  },
  {
   "cell_type": "code",
   "execution_count": 13,
   "metadata": {},
   "outputs": [
    {
     "name": "stdout",
     "output_type": "stream",
     "text": [
      "red.png\n",
      "blue.png\n",
      "green.png\n",
      "yellow.png\n",
      "white.png\n",
      "経過時間：0.00038170814514160156\n"
     ]
    }
   ],
   "source": [
    "# 処理前の時刻\n",
    "t1 = time.time()\n",
    "\n",
    "for color in colors:\n",
    "    print('{}.png'.format(color))\n",
    "    \n",
    "# 処理後の時刻\n",
    "t2 = time.time()\n",
    "\n",
    "# 経過時間を表示\n",
    "elapsed_time1 = t2-t1\n",
    "print(f\"経過時間：{elapsed_time1}\")\n",
    "elapsed_time_1.append(elapsed_time1)"
   ]
  },
  {
   "cell_type": "code",
   "execution_count": 14,
   "metadata": {},
   "outputs": [
    {
     "name": "stdout",
     "output_type": "stream",
     "text": [
      "red.png\n",
      "blue.png\n",
      "green.png\n",
      "yellow.png\n",
      "white.png\n",
      "経過時間：0.0002970695495605469\n"
     ]
    }
   ],
   "source": [
    "# 処理前の時刻\n",
    "t1 = time.time()\n",
    "\n",
    "for color in colors:\n",
    "    print(color + '.png')\n",
    "\n",
    "# 処理後の時刻\n",
    "t2 = time.time()\n",
    "\n",
    "# 経過時間を表示\n",
    "elapsed_time2 = t2-t1\n",
    "print(f\"経過時間：{elapsed_time2}\")\n",
    "elapsed_time_1.append(elapsed_time2)"
   ]
  },
  {
   "cell_type": "code",
   "execution_count": 15,
   "metadata": {},
   "outputs": [
    {
     "name": "stdout",
     "output_type": "stream",
     "text": [
      "['red.png', 'blue.png', 'green.png', 'yellow.png', 'white.png']\n",
      "経過時間：0.00026988983154296875\n"
     ]
    }
   ],
   "source": [
    "# 処理前の時刻\n",
    "t1 = time.time()\n",
    "\n",
    "colors_png = []\n",
    "for color in colors:\n",
    "    color_png = color + '.png'\n",
    "    colors_png.append(color_png)\n",
    "print(colors_png)\n",
    "\n",
    "# 処理後の時刻\n",
    "t2 = time.time()\n",
    "\n",
    "# 経過時間を表示\n",
    "elapsed_time3 = t2-t1\n",
    "print(f\"経過時間：{elapsed_time3}\")\n",
    "elapsed_time_2.append(elapsed_time3)"
   ]
  },
  {
   "cell_type": "code",
   "execution_count": 16,
   "metadata": {},
   "outputs": [
    {
     "name": "stdout",
     "output_type": "stream",
     "text": [
      "経過時間:0.00010371208190917969\n"
     ]
    }
   ],
   "source": [
    "#List内応表記を用いて書く\n",
    "#for分よりも処理速度が早い!!\n",
    "\n",
    "colors = ['red', 'blue', 'green', 'yellow', 'white']\n",
    "\n",
    "t1 = time.time()\n",
    "\n",
    "[color + '.png' for color in colors]\n",
    "\n",
    "t2 = time.time()\n",
    "\n",
    "elapsed_time4 = t2 -t1\n",
    "print(f'経過時間:{elapsed_time4}')\n",
    "elapsed_time_2.append(elapsed_time4)"
   ]
  },
  {
   "cell_type": "code",
   "execution_count": 25,
   "metadata": {},
   "outputs": [
    {
     "data": {
      "text/plain": [
       "['red.png', 'blue.png', 'green.png', 'yellow.png', 'white.png']"
      ]
     },
     "execution_count": 25,
     "metadata": {},
     "output_type": "execute_result"
    }
   ],
   "source": [
    "[color + '.png' for color in colors]"
   ]
  },
  {
   "cell_type": "code",
   "execution_count": 17,
   "metadata": {},
   "outputs": [
    {
     "data": {
      "text/plain": [
       "[0.00038170814514160156, 0.0002970695495605469]"
      ]
     },
     "execution_count": 17,
     "metadata": {},
     "output_type": "execute_result"
    }
   ],
   "source": [
    "elapsed_time_1"
   ]
  },
  {
   "cell_type": "code",
   "execution_count": 18,
   "metadata": {},
   "outputs": [
    {
     "name": "stdout",
     "output_type": "stream",
     "text": [
      "[0.00026988983154296875, 0.00010371208190917969]\n",
      "for分よりもList内表記の方が0.00016617774963378906秒早い\n"
     ]
    }
   ],
   "source": [
    "#for分 vs List内表記\n",
    "print(elapsed_time_2)\n",
    "print('for分よりもList内表記の方が{}秒早い'.format(elapsed_time_2[0] - elapsed_time_2[1]))"
   ]
  },
  {
   "cell_type": "markdown",
   "metadata": {},
   "source": [
    "# While文"
   ]
  },
  {
   "cell_type": "code",
   "execution_count": 19,
   "metadata": {},
   "outputs": [
    {
     "name": "stdout",
     "output_type": "stream",
     "text": [
      "0 is less than 5\n",
      "1 is less than 5\n",
      "2 is less than 5\n",
      "3 is less than 5\n",
      "4 is less than 5\n"
     ]
    }
   ],
   "source": [
    "i = 0\n",
    "while i < 5:\n",
    "    print('{} is less than 5'.format(i))\n",
    "    i += 1"
   ]
  },
  {
   "cell_type": "markdown",
   "metadata": {},
   "source": [
    "## 補足\n",
    "### breakとcontinue"
   ]
  },
  {
   "cell_type": "code",
   "execution_count": 20,
   "metadata": {},
   "outputs": [
    {
     "name": "stdout",
     "output_type": "stream",
     "text": [
      "red is NOT my favorite\n",
      "blue is my favorite\n",
      "green is NOT my favorite\n",
      "yellow is NOT my favorite\n",
      "white is NOT my favorite\n"
     ]
    }
   ],
   "source": [
    "colors = ['red', 'blue', 'green', 'yellow', 'white']\n",
    "favorite_color = 'blue'\n",
    "\n",
    "for color in colors:\n",
    "    if color == favorite_color:\n",
    "        print('{} is my favorite'.format(color))\n",
    "    else:\n",
    "        print('{} is NOT my favorite'.format(color))"
   ]
  },
  {
   "cell_type": "code",
   "execution_count": 21,
   "metadata": {},
   "outputs": [
    {
     "name": "stdout",
     "output_type": "stream",
     "text": [
      "red is NOT my favorite\n"
     ]
    }
   ],
   "source": [
    "colors = ['red', 'blue', 'green', 'yellow', 'white']\n",
    "favorite_color = 'blue'\n",
    "\n",
    "for color in colors:\n",
    "    if color == favorite_color:\n",
    "        break #colorにblueが来ると条件文が成立し、そこでfor文を抜ける\n",
    "        print('{} is my favorite'.format(color))\n",
    "    else:\n",
    "        print('{} is NOT my favorite'.format(color))"
   ]
  },
  {
   "cell_type": "code",
   "execution_count": 22,
   "metadata": {},
   "outputs": [
    {
     "name": "stdout",
     "output_type": "stream",
     "text": [
      "red is NOT my favorite\n",
      "green is NOT my favorite\n",
      "yellow is NOT my favorite\n",
      "white is NOT my favorite\n"
     ]
    }
   ],
   "source": [
    "colors = ['red', 'blue', 'green', 'yellow', 'white']\n",
    "favorite_color = 'blue'\n",
    "\n",
    "for color in colors:\n",
    "    if color == favorite_color:\n",
    "        continue #条件が成立するとcontinue以下の処理は行わずに、次の要素(ここでは'green')へ進む\n",
    "        print('{} is my favorite'.format(color))\n",
    "    else:\n",
    "        print('{} is NOT my favorite'.format(color))"
   ]
  },
  {
   "cell_type": "code",
   "execution_count": null,
   "metadata": {},
   "outputs": [],
   "source": []
  }
 ],
 "metadata": {
  "kernelspec": {
   "display_name": "Python 3",
   "language": "python",
   "name": "python3"
  },
  "language_info": {
   "codemirror_mode": {
    "name": "ipython",
    "version": 3
   },
   "file_extension": ".py",
   "mimetype": "text/x-python",
   "name": "python",
   "nbconvert_exporter": "python",
   "pygments_lexer": "ipython3",
   "version": "3.7.6"
  }
 },
 "nbformat": 4,
 "nbformat_minor": 4
}
