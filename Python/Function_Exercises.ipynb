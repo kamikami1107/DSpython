{
 "cells": [
  {
   "cell_type": "markdown",
   "metadata": {},
   "source": [
    "# Function_Exercises"
   ]
  },
  {
   "cell_type": "markdown",
   "metadata": {},
   "source": [
    "Q: リストを引数にして、各要素に、'_<その要素のindex番号>.png'をつけたリストを返す関数"
   ]
  },
  {
   "cell_type": "markdown",
   "metadata": {},
   "source": [
    "['filename1', 'filename2', 'filename3']が\n",
    "\n",
    "['filename1_0.png', 'filename2_1.png', 'filename3_2.png']になる"
   ]
  },
  {
   "cell_type": "code",
   "execution_count": 1,
   "metadata": {},
   "outputs": [],
   "source": [
    "x = ['filename1', 'filename2', 'filename3']\n"
   ]
  },
  {
   "cell_type": "code",
   "execution_count": 2,
   "metadata": {},
   "outputs": [
    {
     "data": {
      "text/plain": [
       "0"
      ]
     },
     "execution_count": 2,
     "metadata": {},
     "output_type": "execute_result"
    }
   ],
   "source": [
    "x.index('filename1')"
   ]
  },
  {
   "cell_type": "code",
   "execution_count": 3,
   "metadata": {},
   "outputs": [],
   "source": [
    "number_list = []\n",
    "\n",
    "for i in x:\n",
    "    a = i + '_' + str(x.index(i)) + '.png'\n",
    "    number_list.append(a)"
   ]
  },
  {
   "cell_type": "code",
   "execution_count": 4,
   "metadata": {},
   "outputs": [
    {
     "data": {
      "text/plain": [
       "['filename1_0.png', 'filename2_1.png', 'filename3_2.png']"
      ]
     },
     "execution_count": 4,
     "metadata": {},
     "output_type": "execute_result"
    }
   ],
   "source": [
    "number_list"
   ]
  },
  {
   "cell_type": "code",
   "execution_count": 5,
   "metadata": {},
   "outputs": [],
   "source": [
    "# 自分の解答\n",
    "def number(x):\n",
    "    number_list = []\n",
    "    for i in x:\n",
    "        a = i + '_' + str(x.index(i)) + '.png'\n",
    "        number_list.append(a)\n",
    "    return number_list"
   ]
  },
  {
   "cell_type": "code",
   "execution_count": 6,
   "metadata": {},
   "outputs": [
    {
     "data": {
      "text/plain": [
       "['filename1_0.png', 'filename2_1.png', 'filename3_2.png']"
      ]
     },
     "execution_count": 6,
     "metadata": {},
     "output_type": "execute_result"
    }
   ],
   "source": [
    "number(x)"
   ]
  },
  {
   "cell_type": "code",
   "execution_count": 25,
   "metadata": {},
   "outputs": [],
   "source": [
    "# 模範解答\n",
    "def add_png(x):\n",
    "    \"\"\"\n",
    "    各要素に，'_<その要素のindex番号>.png'を付けたリストを返す\n",
    "    \n",
    "    Parameters\n",
    "    -----------------\n",
    "        filename_list: ファイル名のリスト\n",
    "    \n",
    "    Return\n",
    "    -----------------\n",
    "        result_list: filename_listの各要素に，'_<その要素のindex番号>.png'を付けたリスト\n",
    "    \"\"\"\n",
    "    \n",
    "    number_list = []\n",
    "    \n",
    "    for idx, filename in enumerate(x):\n",
    "        #number_list.append(filename + '_' + str(idx) + '.png')\n",
    "        number_list.append('{}_{}.png'.format(filename, idx))\n",
    "    \n",
    "    return number_list"
   ]
  },
  {
   "cell_type": "code",
   "execution_count": 26,
   "metadata": {},
   "outputs": [
    {
     "data": {
      "text/plain": [
       "['filename1_0.png', 'filename2_1.png', 'filename3_2.png']"
      ]
     },
     "execution_count": 26,
     "metadata": {},
     "output_type": "execute_result"
    }
   ],
   "source": [
    "add_png(x)"
   ]
  },
  {
   "cell_type": "code",
   "execution_count": 33,
   "metadata": {},
   "outputs": [],
   "source": [
    "# 模範解答 リスト内包表記で\n",
    "\n",
    "x = ['filename1', 'filename2', 'filename3']\n",
    "\n",
    "\n",
    "def add_png(x):\n",
    "    \"\"\"\n",
    "    各要素に，'_<その要素のindex番号>.png'を付けたリストを返す\n",
    "    \n",
    "    Parameters\n",
    "    -----------------\n",
    "        filename_list: ファイル名のリスト\n",
    "    \n",
    "    Return\n",
    "    -----------------\n",
    "        result_list: filename_listの各要素に，'_<その要素のindex番号>.png'を付けたリスト\n",
    "    \"\"\"\n",
    "#     number_list = []\n",
    "    \n",
    "#     for idx, filename in enumerate(x):\n",
    "#         number_list.append(filename + '_' + str(idx) + '.png')\n",
    "#         number_list.append('{}_{}.png'.format(filename, idx))\n",
    "        \n",
    "    return ['{}_{}.png'.format(filename, idx) for idx, filename in enumerate(x)]\n",
    "    "
   ]
  },
  {
   "cell_type": "code",
   "execution_count": 34,
   "metadata": {},
   "outputs": [
    {
     "data": {
      "text/plain": [
       "['filename1_0.png', 'filename2_1.png', 'filename3_2.png']"
      ]
     },
     "execution_count": 34,
     "metadata": {},
     "output_type": "execute_result"
    }
   ],
   "source": [
    "add_png(x)"
   ]
  },
  {
   "cell_type": "markdown",
   "metadata": {},
   "source": [
    "もう少し汎用性の高い関数にしたい\n",
    "\n",
    "*→`.png`以外にも`.jpg`に対応した関数にする*"
   ]
  },
  {
   "cell_type": "code",
   "execution_count": 52,
   "metadata": {},
   "outputs": [],
   "source": [
    "x = ['filename1', 'filename2', 'filename3']\n",
    "\n",
    "def add_extension(x, extension='.png'):\n",
    "    \"\"\"\n",
    "    各要素に，'_<その要素のindex番号><extension>'を付けたリストを返す\n",
    "    \n",
    "    Parameters\n",
    "    -----------------\n",
    "        filename_list: ファイル名のリスト\n",
    "        extension: 拡張子\n",
    "    \n",
    "    Return\n",
    "    -----------------\n",
    "        result_list: filename_listの各要素に，'_<その要素のindex番号><extension>'を付けたリスト\n",
    "    \"\"\"\n",
    "    \n",
    "    return ['{}_{}{}'.format(name, idx, extension) for idx, name in enumerate(x)]\n"
   ]
  },
  {
   "cell_type": "code",
   "execution_count": 53,
   "metadata": {},
   "outputs": [],
   "source": [
    "# 模範解答\n",
    "\n",
    "x = ['filename1', 'filename2', 'filename3']\n",
    "\n",
    "def add_extension(x, extension='.png'):\n",
    "    \"\"\"\n",
    "    各要素に，'_<その要素のindex番号><extension>'を付けたリストを返す\n",
    "    \n",
    "    Parameters\n",
    "    -----------------\n",
    "        filename_list: ファイル名のリスト\n",
    "        extension: 拡張子\n",
    "    \n",
    "    Return\n",
    "    -----------------\n",
    "        result_list: filename_listの各要素に，'_<その要素のindex番号><extension>'を付けたリスト\n",
    "    \"\"\"\n",
    "    \n",
    "    return ['{n}_{i}{e}'.format(n=name, i=idx, e=extension) for idx, name in enumerate(x)]\n"
   ]
  },
  {
   "cell_type": "code",
   "execution_count": 54,
   "metadata": {},
   "outputs": [
    {
     "data": {
      "text/plain": [
       "['filename1_0.jpg', 'filename2_1.jpg', 'filename3_2.jpg']"
      ]
     },
     "execution_count": 54,
     "metadata": {},
     "output_type": "execute_result"
    }
   ],
   "source": [
    "add_extension(x, '.jpg')"
   ]
  },
  {
   "cell_type": "code",
   "execution_count": 55,
   "metadata": {},
   "outputs": [],
   "source": [
    "# lamda関数で\n",
    "\n",
    "x = ['filename1', 'filename2', 'filename3']\n",
    "\n",
    "extension = '.jpg'\n",
    "f_e = lambda x: ['{n}_{i}{e}'.format(n=name, i=idx, e=extension) for idx, name in enumerate(x)]"
   ]
  },
  {
   "cell_type": "code",
   "execution_count": 56,
   "metadata": {},
   "outputs": [
    {
     "data": {
      "text/plain": [
       "['filename1_0.jpg', 'filename2_1.jpg', 'filename3_2.jpg']"
      ]
     },
     "execution_count": 56,
     "metadata": {},
     "output_type": "execute_result"
    }
   ],
   "source": [
    "f_e(x)"
   ]
  },
  {
   "cell_type": "code",
   "execution_count": 59,
   "metadata": {},
   "outputs": [],
   "source": [
    "# 模範解答\n",
    "\n",
    "x = ['filename1', 'filename2', 'filename3']\n",
    "\n",
    "z = lambda x, extension:['{n}_{i}{e}'.format(n=name, i=idx, e=extension) for idx, name in enumerate(x)]"
   ]
  },
  {
   "cell_type": "code",
   "execution_count": 60,
   "metadata": {},
   "outputs": [
    {
     "data": {
      "text/plain": [
       "['filename1_0.jpg', 'filename2_1.jpg', 'filename3_2.jpg']"
      ]
     },
     "execution_count": 60,
     "metadata": {},
     "output_type": "execute_result"
    }
   ],
   "source": [
    "z(x, '.jpg')"
   ]
  },
  {
   "cell_type": "code",
   "execution_count": null,
   "metadata": {},
   "outputs": [],
   "source": []
  }
 ],
 "metadata": {
  "kernelspec": {
   "display_name": "Python 3",
   "language": "python",
   "name": "python3"
  },
  "language_info": {
   "codemirror_mode": {
    "name": "ipython",
    "version": 3
   },
   "file_extension": ".py",
   "mimetype": "text/x-python",
   "name": "python",
   "nbconvert_exporter": "python",
   "pygments_lexer": "ipython3",
   "version": "3.7.6"
  }
 },
 "nbformat": 4,
 "nbformat_minor": 4
}
