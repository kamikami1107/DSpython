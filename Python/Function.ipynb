{
 "cells": [
  {
   "cell_type": "markdown",
   "metadata": {},
   "source": [
    "# 関数（Function）"
   ]
  },
  {
   "cell_type": "code",
   "execution_count": 1,
   "metadata": {},
   "outputs": [],
   "source": [
    "def function_name(param1, param2):\n",
    "    '''\n",
    "    This function prints something\n",
    "    \n",
    "    Usage\n",
    "    --------------------\n",
    "    arg1 = 'argument1'\n",
    "    arg2 = 'argument2'\n",
    "\n",
    "    func_return = function_name(arg1, arg2)\n",
    "    \n",
    "    Parameters\n",
    "    --------------------\n",
    "    param1: explain param1\n",
    "    param2: explain param2\n",
    "    \n",
    "    Returns\n",
    "    --------------------\n",
    "    strings: param1 and param2\n",
    "    '''\n",
    "    \n",
    "    print('Dosomething for {} and {}'.format(param1, param2))\n",
    "    return param1 + ' and ' + param2"
   ]
  },
  {
   "cell_type": "code",
   "execution_count": 2,
   "metadata": {},
   "outputs": [
    {
     "name": "stdout",
     "output_type": "stream",
     "text": [
      "Dosomething for argument1 and argument2\n"
     ]
    }
   ],
   "source": [
    "arg1 = 'argument1'\n",
    "arg2 = 'argument2'\n",
    "\n",
    "func_return = function_name(arg1, arg2)"
   ]
  },
  {
   "cell_type": "code",
   "execution_count": 3,
   "metadata": {},
   "outputs": [
    {
     "data": {
      "text/plain": [
       "'argument1 and argument2'"
      ]
     },
     "execution_count": 3,
     "metadata": {},
     "output_type": "execute_result"
    }
   ],
   "source": [
    "func_return"
   ]
  },
  {
   "cell_type": "code",
   "execution_count": 4,
   "metadata": {},
   "outputs": [],
   "source": [
    "def sum(a, b):\n",
    "    c = a + b\n",
    "    return c"
   ]
  },
  {
   "cell_type": "code",
   "execution_count": 5,
   "metadata": {},
   "outputs": [
    {
     "name": "stdout",
     "output_type": "stream",
     "text": [
      "hello world\n"
     ]
    }
   ],
   "source": [
    "sum(3, 5)\n",
    "print('hello world')"
   ]
  },
  {
   "cell_type": "code",
   "execution_count": 6,
   "metadata": {},
   "outputs": [
    {
     "data": {
      "text/plain": [
       "'argument1 and argument2'"
      ]
     },
     "execution_count": 6,
     "metadata": {},
     "output_type": "execute_result"
    }
   ],
   "source": [
    "#上のセルで関数を片数に格納し忘れて、関数の出力が得られなかった場合、\n",
    "#_をタイピングしてあげると、関数の中身が出力される\n",
    "_ #最後に実行したコードの戻り値が格納されている"
   ]
  },
  {
   "cell_type": "code",
   "execution_count": 7,
   "metadata": {},
   "outputs": [],
   "source": [
    "# 戻り値の無い関数ではNoneが返される\n",
    "def subtract(d, e):\n",
    "    f = d - e"
   ]
  },
  {
   "cell_type": "code",
   "execution_count": 8,
   "metadata": {},
   "outputs": [],
   "source": [
    "hikizan = subtract(5, 3)"
   ]
  },
  {
   "cell_type": "code",
   "execution_count": 9,
   "metadata": {},
   "outputs": [
    {
     "data": {
      "text/plain": [
       "True"
      ]
     },
     "execution_count": 9,
     "metadata": {},
     "output_type": "execute_result"
    }
   ],
   "source": [
    "hikizan is None"
   ]
  },
  {
   "cell_type": "code",
   "execution_count": 10,
   "metadata": {},
   "outputs": [
    {
     "ename": "SyntaxError",
     "evalue": "non-default argument follows default argument (<ipython-input-10-9075975e4c83>, line 3)",
     "output_type": "error",
     "traceback": [
      "\u001b[0;36m  File \u001b[0;32m\"<ipython-input-10-9075975e4c83>\"\u001b[0;36m, line \u001b[0;32m3\u001b[0m\n\u001b[0;31m    def function_name(param1='abc', param2):\u001b[0m\n\u001b[0m                     ^\u001b[0m\n\u001b[0;31mSyntaxError\u001b[0m\u001b[0;31m:\u001b[0m non-default argument follows default argument\n"
     ]
    }
   ],
   "source": [
    "#デフォルト値が設定されていないパラメータの前に、デフォルト値が設定されたパラメーターは置けない\n",
    "\n",
    "def function_name(param1='abc', param2):\n",
    "    print('Dosomething for {} and {}'.format(param1, param2))\n",
    "    return param1 + ' and ' + param2"
   ]
  },
  {
   "cell_type": "markdown",
   "metadata": {},
   "source": [
    "理由：\n",
    "argumentが一個しか無い場合、普通は先頭のparameterに代入されるが、\n",
    "先頭のparameterにはデフォルト値が指定されている為、pythonがどちらのparameterにargumentを入れたら良いか混乱するから。"
   ]
  },
  {
   "cell_type": "code",
   "execution_count": null,
   "metadata": {},
   "outputs": [],
   "source": []
  }
 ],
 "metadata": {
  "kernelspec": {
   "display_name": "Python 3",
   "language": "python",
   "name": "python3"
  },
  "language_info": {
   "codemirror_mode": {
    "name": "ipython",
    "version": 3
   },
   "file_extension": ".py",
   "mimetype": "text/x-python",
   "name": "python",
   "nbconvert_exporter": "python",
   "pygments_lexer": "ipython3",
   "version": "3.7.6"
  }
 },
 "nbformat": 4,
 "nbformat_minor": 4
}
